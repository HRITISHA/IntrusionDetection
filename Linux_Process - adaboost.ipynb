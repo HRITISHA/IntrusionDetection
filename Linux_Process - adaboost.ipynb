{
 "cells": [
  {
   "cell_type": "markdown",
   "metadata": {},
   "source": [
    "# <font color=\"red\"> ISAA PROJECT- </font> 18BIT0226"
   ]
  },
  {
   "cell_type": "markdown",
   "metadata": {},
   "source": [
    "## MODEL - ADABOOST"
   ]
  },
  {
   "cell_type": "markdown",
   "metadata": {},
   "source": [
    "***GRADIENT BOOSTING***  \n",
    "\n",
    "<div style=\"background-color:rgb(253, 255, 135); \"> Gradient boosting is a machine learning technique for regression and classification problems, which produces a prediction model in the form of an ensemble of weak prediction models, typically decision trees.</div>"
   ]
  },
  {
   "cell_type": "markdown",
   "metadata": {},
   "source": [
    "## <font color=\"blue\"> 2/3 DATASET </font> - LINUX PROCESS"
   ]
  },
  {
   "cell_type": "markdown",
   "metadata": {},
   "source": [
    "********"
   ]
  },
  {
   "cell_type": "markdown",
   "metadata": {},
   "source": [
    "### IMPORT THE LIBRARIES"
   ]
  },
  {
   "cell_type": "code",
   "execution_count": 2,
   "metadata": {},
   "outputs": [],
   "source": [
    "import matplotlib\n",
    "import matplotlib.pyplot as plt\n",
    "import pandas as pd\n",
    "import numpy as np\n",
    "import seaborn as sns\n",
    "import sklearn\n",
    "%matplotlib inline"
   ]
  },
  {
   "cell_type": "code",
   "execution_count": 3,
   "metadata": {},
   "outputs": [],
   "source": [
    "data=pd.read_csv(\"Train_Test_Linux_dataset/Train_Test_Linux_process.csv\")"
   ]
  },
  {
   "cell_type": "code",
   "execution_count": 4,
   "metadata": {},
   "outputs": [
    {
     "data": {
      "text/html": [
       "<div>\n",
       "<style scoped>\n",
       "    .dataframe tbody tr th:only-of-type {\n",
       "        vertical-align: middle;\n",
       "    }\n",
       "\n",
       "    .dataframe tbody tr th {\n",
       "        vertical-align: top;\n",
       "    }\n",
       "\n",
       "    .dataframe thead th {\n",
       "        text-align: right;\n",
       "    }\n",
       "</style>\n",
       "<table border=\"1\" class=\"dataframe\">\n",
       "  <thead>\n",
       "    <tr style=\"text-align: right;\">\n",
       "      <th></th>\n",
       "      <th>ts</th>\n",
       "      <th>PID</th>\n",
       "      <th>TRUN</th>\n",
       "      <th>TSLPI</th>\n",
       "      <th>TSLPU</th>\n",
       "      <th>POLI</th>\n",
       "      <th>NICE</th>\n",
       "      <th>PRI</th>\n",
       "      <th>RTPR</th>\n",
       "      <th>CPUNR</th>\n",
       "      <th>Status</th>\n",
       "      <th>EXC</th>\n",
       "      <th>State</th>\n",
       "      <th>CPU</th>\n",
       "      <th>CMD</th>\n",
       "      <th>label</th>\n",
       "      <th>type</th>\n",
       "    </tr>\n",
       "  </thead>\n",
       "  <tbody>\n",
       "    <tr>\n",
       "      <td>0</td>\n",
       "      <td>1556129658</td>\n",
       "      <td>52888</td>\n",
       "      <td>0</td>\n",
       "      <td>1</td>\n",
       "      <td>0</td>\n",
       "      <td>norm</td>\n",
       "      <td>20</td>\n",
       "      <td>100</td>\n",
       "      <td>0</td>\n",
       "      <td>0</td>\n",
       "      <td>0</td>\n",
       "      <td>0</td>\n",
       "      <td>S</td>\n",
       "      <td>0.01</td>\n",
       "      <td>atop</td>\n",
       "      <td>1</td>\n",
       "      <td>dos</td>\n",
       "    </tr>\n",
       "    <tr>\n",
       "      <td>1</td>\n",
       "      <td>1556129738</td>\n",
       "      <td>2791</td>\n",
       "      <td>0</td>\n",
       "      <td>5</td>\n",
       "      <td>0</td>\n",
       "      <td>norm</td>\n",
       "      <td>0</td>\n",
       "      <td>120</td>\n",
       "      <td>0</td>\n",
       "      <td>0</td>\n",
       "      <td>0</td>\n",
       "      <td>0</td>\n",
       "      <td>S</td>\n",
       "      <td>0.00</td>\n",
       "      <td>nautilus</td>\n",
       "      <td>1</td>\n",
       "      <td>dos</td>\n",
       "    </tr>\n",
       "    <tr>\n",
       "      <td>2</td>\n",
       "      <td>1556129778</td>\n",
       "      <td>2504</td>\n",
       "      <td>0</td>\n",
       "      <td>1</td>\n",
       "      <td>0</td>\n",
       "      <td>norm</td>\n",
       "      <td>0</td>\n",
       "      <td>120</td>\n",
       "      <td>0</td>\n",
       "      <td>2</td>\n",
       "      <td>0</td>\n",
       "      <td>0</td>\n",
       "      <td>S</td>\n",
       "      <td>0.00</td>\n",
       "      <td>upstart-dbus-b</td>\n",
       "      <td>1</td>\n",
       "      <td>dos</td>\n",
       "    </tr>\n",
       "    <tr>\n",
       "      <td>3</td>\n",
       "      <td>1556129788</td>\n",
       "      <td>3147</td>\n",
       "      <td>1</td>\n",
       "      <td>12</td>\n",
       "      <td>0</td>\n",
       "      <td>norm</td>\n",
       "      <td>0</td>\n",
       "      <td>120</td>\n",
       "      <td>0</td>\n",
       "      <td>1</td>\n",
       "      <td>0</td>\n",
       "      <td>0</td>\n",
       "      <td>S</td>\n",
       "      <td>1.00</td>\n",
       "      <td>drone</td>\n",
       "      <td>1</td>\n",
       "      <td>dos</td>\n",
       "    </tr>\n",
       "    <tr>\n",
       "      <td>4</td>\n",
       "      <td>1556129798</td>\n",
       "      <td>52888</td>\n",
       "      <td>0</td>\n",
       "      <td>1</td>\n",
       "      <td>0</td>\n",
       "      <td>norm</td>\n",
       "      <td>20</td>\n",
       "      <td>100</td>\n",
       "      <td>0</td>\n",
       "      <td>0</td>\n",
       "      <td>0</td>\n",
       "      <td>0</td>\n",
       "      <td>S</td>\n",
       "      <td>0.01</td>\n",
       "      <td>atop</td>\n",
       "      <td>1</td>\n",
       "      <td>dos</td>\n",
       "    </tr>\n",
       "  </tbody>\n",
       "</table>\n",
       "</div>"
      ],
      "text/plain": [
       "           ts    PID  TRUN  TSLPI  TSLPU  POLI  NICE  PRI  RTPR  CPUNR Status  \\\n",
       "0  1556129658  52888     0      1      0  norm    20  100     0      0      0   \n",
       "1  1556129738   2791     0      5      0  norm     0  120     0      0      0   \n",
       "2  1556129778   2504     0      1      0  norm     0  120     0      2      0   \n",
       "3  1556129788   3147     1     12      0  norm     0  120     0      1      0   \n",
       "4  1556129798  52888     0      1      0  norm    20  100     0      0      0   \n",
       "\n",
       "   EXC State   CPU             CMD  label type  \n",
       "0    0     S  0.01            atop      1  dos  \n",
       "1    0     S  0.00        nautilus      1  dos  \n",
       "2    0     S  0.00  upstart-dbus-b      1  dos  \n",
       "3    0     S  1.00           drone      1  dos  \n",
       "4    0     S  0.01            atop      1  dos  "
      ]
     },
     "execution_count": 4,
     "metadata": {},
     "output_type": "execute_result"
    }
   ],
   "source": [
    "data.head()"
   ]
  },
  {
   "cell_type": "code",
   "execution_count": 5,
   "metadata": {},
   "outputs": [
    {
     "data": {
      "text/plain": [
       "(160112, 17)"
      ]
     },
     "execution_count": 5,
     "metadata": {},
     "output_type": "execute_result"
    }
   ],
   "source": [
    "# Size of the dataset\n",
    "data.shape"
   ]
  },
  {
   "cell_type": "code",
   "execution_count": 6,
   "metadata": {
    "scrolled": true
   },
   "outputs": [
    {
     "name": "stdout",
     "output_type": "stream",
     "text": [
      "<class 'pandas.core.frame.DataFrame'>\n",
      "RangeIndex: 160112 entries, 0 to 160111\n",
      "Data columns (total 17 columns):\n",
      "ts        160112 non-null int64\n",
      "PID       160112 non-null int64\n",
      "TRUN      160112 non-null int64\n",
      "TSLPI     160112 non-null int64\n",
      "TSLPU     160112 non-null int64\n",
      "POLI      160112 non-null object\n",
      "NICE      160112 non-null int64\n",
      "PRI       160112 non-null int64\n",
      "RTPR      160112 non-null int64\n",
      "CPUNR     160112 non-null int64\n",
      "Status    160112 non-null object\n",
      "EXC       160112 non-null int64\n",
      "State     160112 non-null object\n",
      "CPU       160112 non-null float64\n",
      "CMD       160112 non-null object\n",
      "label     160112 non-null int64\n",
      "type      160112 non-null object\n",
      "dtypes: float64(1), int64(11), object(5)\n",
      "memory usage: 20.8+ MB\n"
     ]
    }
   ],
   "source": [
    "data.info()"
   ]
  },
  {
   "cell_type": "code",
   "execution_count": 7,
   "metadata": {},
   "outputs": [
    {
     "data": {
      "text/html": [
       "<div>\n",
       "<style scoped>\n",
       "    .dataframe tbody tr th:only-of-type {\n",
       "        vertical-align: middle;\n",
       "    }\n",
       "\n",
       "    .dataframe tbody tr th {\n",
       "        vertical-align: top;\n",
       "    }\n",
       "\n",
       "    .dataframe thead th {\n",
       "        text-align: right;\n",
       "    }\n",
       "</style>\n",
       "<table border=\"1\" class=\"dataframe\">\n",
       "  <thead>\n",
       "    <tr style=\"text-align: right;\">\n",
       "      <th></th>\n",
       "      <th>ts</th>\n",
       "      <th>PID</th>\n",
       "      <th>TRUN</th>\n",
       "      <th>TSLPI</th>\n",
       "      <th>TSLPU</th>\n",
       "      <th>NICE</th>\n",
       "      <th>PRI</th>\n",
       "      <th>RTPR</th>\n",
       "      <th>CPUNR</th>\n",
       "      <th>EXC</th>\n",
       "      <th>CPU</th>\n",
       "      <th>label</th>\n",
       "    </tr>\n",
       "  </thead>\n",
       "  <tbody>\n",
       "    <tr>\n",
       "      <td>count</td>\n",
       "      <td>1.601120e+05</td>\n",
       "      <td>160112.000000</td>\n",
       "      <td>160112.000000</td>\n",
       "      <td>160112.000000</td>\n",
       "      <td>160112.000000</td>\n",
       "      <td>160112.000000</td>\n",
       "      <td>160112.000000</td>\n",
       "      <td>160112.0</td>\n",
       "      <td>160112.000000</td>\n",
       "      <td>160112.000000</td>\n",
       "      <td>160112.000000</td>\n",
       "      <td>160112.000000</td>\n",
       "    </tr>\n",
       "    <tr>\n",
       "      <td>mean</td>\n",
       "      <td>1.555145e+09</td>\n",
       "      <td>3256.037293</td>\n",
       "      <td>0.083092</td>\n",
       "      <td>3.916814</td>\n",
       "      <td>0.001130</td>\n",
       "      <td>5.157471</td>\n",
       "      <td>111.654748</td>\n",
       "      <td>0.0</td>\n",
       "      <td>1.569351</td>\n",
       "      <td>0.017663</td>\n",
       "      <td>0.038341</td>\n",
       "      <td>0.375437</td>\n",
       "    </tr>\n",
       "    <tr>\n",
       "      <td>std</td>\n",
       "      <td>8.816813e+05</td>\n",
       "      <td>2071.338868</td>\n",
       "      <td>0.284315</td>\n",
       "      <td>7.856580</td>\n",
       "      <td>0.074001</td>\n",
       "      <td>8.722292</td>\n",
       "      <td>20.521090</td>\n",
       "      <td>0.0</td>\n",
       "      <td>1.245371</td>\n",
       "      <td>0.692833</td>\n",
       "      <td>0.188411</td>\n",
       "      <td>0.484237</td>\n",
       "    </tr>\n",
       "    <tr>\n",
       "      <td>min</td>\n",
       "      <td>1.554219e+09</td>\n",
       "      <td>1007.000000</td>\n",
       "      <td>0.000000</td>\n",
       "      <td>0.000000</td>\n",
       "      <td>0.000000</td>\n",
       "      <td>0.000000</td>\n",
       "      <td>0.000000</td>\n",
       "      <td>0.0</td>\n",
       "      <td>0.000000</td>\n",
       "      <td>0.000000</td>\n",
       "      <td>0.000000</td>\n",
       "      <td>0.000000</td>\n",
       "    </tr>\n",
       "    <tr>\n",
       "      <td>25%</td>\n",
       "      <td>1.554419e+09</td>\n",
       "      <td>2533.000000</td>\n",
       "      <td>0.000000</td>\n",
       "      <td>1.000000</td>\n",
       "      <td>0.000000</td>\n",
       "      <td>0.000000</td>\n",
       "      <td>100.000000</td>\n",
       "      <td>0.0</td>\n",
       "      <td>0.000000</td>\n",
       "      <td>0.000000</td>\n",
       "      <td>0.000000</td>\n",
       "      <td>0.000000</td>\n",
       "    </tr>\n",
       "    <tr>\n",
       "      <td>50%</td>\n",
       "      <td>1.554619e+09</td>\n",
       "      <td>3058.000000</td>\n",
       "      <td>0.000000</td>\n",
       "      <td>1.000000</td>\n",
       "      <td>0.000000</td>\n",
       "      <td>0.000000</td>\n",
       "      <td>120.000000</td>\n",
       "      <td>0.0</td>\n",
       "      <td>2.000000</td>\n",
       "      <td>0.000000</td>\n",
       "      <td>0.000000</td>\n",
       "      <td>0.000000</td>\n",
       "    </tr>\n",
       "    <tr>\n",
       "      <td>75%</td>\n",
       "      <td>1.556223e+09</td>\n",
       "      <td>3793.000000</td>\n",
       "      <td>0.000000</td>\n",
       "      <td>4.000000</td>\n",
       "      <td>0.000000</td>\n",
       "      <td>20.000000</td>\n",
       "      <td>120.000000</td>\n",
       "      <td>0.0</td>\n",
       "      <td>3.000000</td>\n",
       "      <td>0.000000</td>\n",
       "      <td>0.010000</td>\n",
       "      <td>1.000000</td>\n",
       "    </tr>\n",
       "    <tr>\n",
       "      <td>max</td>\n",
       "      <td>1.556549e+09</td>\n",
       "      <td>53075.000000</td>\n",
       "      <td>9.000000</td>\n",
       "      <td>67.000000</td>\n",
       "      <td>21.000000</td>\n",
       "      <td>20.000000</td>\n",
       "      <td>139.000000</td>\n",
       "      <td>0.0</td>\n",
       "      <td>5.000000</td>\n",
       "      <td>100.000000</td>\n",
       "      <td>4.000000</td>\n",
       "      <td>1.000000</td>\n",
       "    </tr>\n",
       "  </tbody>\n",
       "</table>\n",
       "</div>"
      ],
      "text/plain": [
       "                 ts            PID           TRUN          TSLPI  \\\n",
       "count  1.601120e+05  160112.000000  160112.000000  160112.000000   \n",
       "mean   1.555145e+09    3256.037293       0.083092       3.916814   \n",
       "std    8.816813e+05    2071.338868       0.284315       7.856580   \n",
       "min    1.554219e+09    1007.000000       0.000000       0.000000   \n",
       "25%    1.554419e+09    2533.000000       0.000000       1.000000   \n",
       "50%    1.554619e+09    3058.000000       0.000000       1.000000   \n",
       "75%    1.556223e+09    3793.000000       0.000000       4.000000   \n",
       "max    1.556549e+09   53075.000000       9.000000      67.000000   \n",
       "\n",
       "               TSLPU           NICE            PRI      RTPR          CPUNR  \\\n",
       "count  160112.000000  160112.000000  160112.000000  160112.0  160112.000000   \n",
       "mean        0.001130       5.157471     111.654748       0.0       1.569351   \n",
       "std         0.074001       8.722292      20.521090       0.0       1.245371   \n",
       "min         0.000000       0.000000       0.000000       0.0       0.000000   \n",
       "25%         0.000000       0.000000     100.000000       0.0       0.000000   \n",
       "50%         0.000000       0.000000     120.000000       0.0       2.000000   \n",
       "75%         0.000000      20.000000     120.000000       0.0       3.000000   \n",
       "max        21.000000      20.000000     139.000000       0.0       5.000000   \n",
       "\n",
       "                 EXC            CPU          label  \n",
       "count  160112.000000  160112.000000  160112.000000  \n",
       "mean        0.017663       0.038341       0.375437  \n",
       "std         0.692833       0.188411       0.484237  \n",
       "min         0.000000       0.000000       0.000000  \n",
       "25%         0.000000       0.000000       0.000000  \n",
       "50%         0.000000       0.000000       0.000000  \n",
       "75%         0.000000       0.010000       1.000000  \n",
       "max       100.000000       4.000000       1.000000  "
      ]
     },
     "execution_count": 7,
     "metadata": {},
     "output_type": "execute_result"
    }
   ],
   "source": [
    "data.describe()"
   ]
  },
  {
   "cell_type": "code",
   "execution_count": 8,
   "metadata": {},
   "outputs": [
    {
     "data": {
      "text/plain": [
       "ts        0\n",
       "PID       0\n",
       "TRUN      0\n",
       "TSLPI     0\n",
       "TSLPU     0\n",
       "POLI      0\n",
       "NICE      0\n",
       "PRI       0\n",
       "RTPR      0\n",
       "CPUNR     0\n",
       "Status    0\n",
       "EXC       0\n",
       "State     0\n",
       "CPU       0\n",
       "CMD       0\n",
       "label     0\n",
       "type      0\n",
       "dtype: int64"
      ]
     },
     "execution_count": 8,
     "metadata": {},
     "output_type": "execute_result"
    }
   ],
   "source": [
    "data.isnull().sum()"
   ]
  },
  {
   "cell_type": "markdown",
   "metadata": {},
   "source": [
    "There are no null values in the dataset"
   ]
  },
  {
   "cell_type": "code",
   "execution_count": 9,
   "metadata": {},
   "outputs": [
    {
     "data": {
      "text/plain": [
       "atop              40831\n",
       "vmtoolsd           9304\n",
       "apache2            8347\n",
       "Xorg               5873\n",
       "nautilus           5665\n",
       "                  ...  \n",
       "kworker/5:3-cg        1\n",
       "<du>                  1\n",
       "<dbus>                1\n",
       "<atop.daily>          1\n",
       "<aptitude>            1\n",
       "Name: CMD, Length: 406, dtype: int64"
      ]
     },
     "execution_count": 9,
     "metadata": {},
     "output_type": "execute_result"
    }
   ],
   "source": [
    "data['CMD'].value_counts()"
   ]
  },
  {
   "cell_type": "markdown",
   "metadata": {},
   "source": [
    "##### <font color=\"blue\"> Tried to see the unique values of the \"CMD\" column so that could go for better encoding option but found out that it has many values . So we need to go for Label Encoding."
   ]
  },
  {
   "cell_type": "code",
   "execution_count": 10,
   "metadata": {},
   "outputs": [
    {
     "data": {
      "text/plain": [
       "0    100000\n",
       "1     60112\n",
       "Name: label, dtype: int64"
      ]
     },
     "execution_count": 10,
     "metadata": {},
     "output_type": "execute_result"
    }
   ],
   "source": [
    "data['label'].value_counts()"
   ]
  },
  {
   "cell_type": "code",
   "execution_count": 11,
   "metadata": {},
   "outputs": [
    {
     "data": {
      "text/plain": [
       "normal       100000\n",
       "ddos          10000\n",
       "password      10000\n",
       "scanning      10000\n",
       "injection     10000\n",
       "dos           10000\n",
       "xss           10000\n",
       "mitm            112\n",
       "Name: type, dtype: int64"
      ]
     },
     "execution_count": 11,
     "metadata": {},
     "output_type": "execute_result"
    }
   ],
   "source": [
    "data['type'].value_counts()"
   ]
  },
  {
   "cell_type": "code",
   "execution_count": 12,
   "metadata": {},
   "outputs": [
    {
     "data": {
      "text/plain": [
       "S    145383\n",
       "R      8583\n",
       "E      4315\n",
       "I      1590\n",
       "D       129\n",
       "Z       112\n",
       "Name: State, dtype: int64"
      ]
     },
     "execution_count": 12,
     "metadata": {},
     "output_type": "execute_result"
    }
   ],
   "source": [
    "data['State'].value_counts()"
   ]
  },
  {
   "cell_type": "code",
   "execution_count": 13,
   "metadata": {},
   "outputs": [
    {
     "data": {
      "text/plain": [
       "-     125604\n",
       "0      29080\n",
       "N       2759\n",
       "NE      2620\n",
       "NS        47\n",
       "C          1\n",
       "NC         1\n",
       "Name: Status, dtype: int64"
      ]
     },
     "execution_count": 13,
     "metadata": {},
     "output_type": "execute_result"
    }
   ],
   "source": [
    "data['Status'].value_counts()"
   ]
  },
  {
   "cell_type": "code",
   "execution_count": 14,
   "metadata": {},
   "outputs": [
    {
     "data": {
      "text/plain": [
       "norm    155797\n",
       "0         2910\n",
       "-         1405\n",
       "Name: POLI, dtype: int64"
      ]
     },
     "execution_count": 14,
     "metadata": {},
     "output_type": "execute_result"
    }
   ],
   "source": [
    "data['POLI'].value_counts()"
   ]
  },
  {
   "cell_type": "markdown",
   "metadata": {},
   "source": [
    "### ENCODING THE CATEGORICAL FEATURES"
   ]
  },
  {
   "cell_type": "code",
   "execution_count": null,
   "metadata": {},
   "outputs": [],
   "source": []
  },
  {
   "cell_type": "code",
   "execution_count": 15,
   "metadata": {},
   "outputs": [],
   "source": [
    "# Label Encoding\n",
    "\n",
    "from sklearn.preprocessing import LabelEncoder\n",
    "LE = LabelEncoder()\n",
    "\n",
    "# We have 5 columns whose data type is not float or int\n",
    "# CMD ,type ,\n",
    "data[\"CMD_Enc\"]=LE.fit_transform(data.CMD)\n",
    "data[\"type_Enc\"]=LE.fit_transform(data.type)\n",
    "data.drop(['CMD','type'],axis=1,inplace=True)"
   ]
  },
  {
   "cell_type": "code",
   "execution_count": 16,
   "metadata": {},
   "outputs": [],
   "source": [
    "# One hot Encoding\n",
    "\n",
    "from sklearn.preprocessing import  OneHotEncoder\n",
    "OHE_cat_features = data.select_dtypes('object').columns\n",
    "OH_encoder = OneHotEncoder(sparse=False, handle_unknown='ignore')\n",
    "OH_cols_train = pd.DataFrame(OH_encoder.fit_transform(data[OHE_cat_features]))\n",
    "OH_cols_train.index = data.index\n",
    "OH_cols_train.columns = OH_encoder.get_feature_names(OHE_cat_features)\n",
    "data = data.join(OH_cols_train)\n",
    "\n",
    "data.drop(OHE_cat_features, axis=1, inplace = True)\n",
    "# This is used to drop all the Parent Colums as new Columns have been created with numerical data"
   ]
  },
  {
   "cell_type": "code",
   "execution_count": 17,
   "metadata": {},
   "outputs": [
    {
     "data": {
      "text/html": [
       "<div>\n",
       "<style scoped>\n",
       "    .dataframe tbody tr th:only-of-type {\n",
       "        vertical-align: middle;\n",
       "    }\n",
       "\n",
       "    .dataframe tbody tr th {\n",
       "        vertical-align: top;\n",
       "    }\n",
       "\n",
       "    .dataframe thead th {\n",
       "        text-align: right;\n",
       "    }\n",
       "</style>\n",
       "<table border=\"1\" class=\"dataframe\">\n",
       "  <thead>\n",
       "    <tr style=\"text-align: right;\">\n",
       "      <th></th>\n",
       "      <th>ts</th>\n",
       "      <th>PID</th>\n",
       "      <th>TRUN</th>\n",
       "      <th>TSLPI</th>\n",
       "      <th>TSLPU</th>\n",
       "      <th>NICE</th>\n",
       "      <th>PRI</th>\n",
       "      <th>RTPR</th>\n",
       "      <th>CPUNR</th>\n",
       "      <th>EXC</th>\n",
       "      <th>...</th>\n",
       "      <th>Status_N</th>\n",
       "      <th>Status_NC</th>\n",
       "      <th>Status_NE</th>\n",
       "      <th>Status_NS</th>\n",
       "      <th>State_D</th>\n",
       "      <th>State_E</th>\n",
       "      <th>State_I</th>\n",
       "      <th>State_R</th>\n",
       "      <th>State_S</th>\n",
       "      <th>State_Z</th>\n",
       "    </tr>\n",
       "  </thead>\n",
       "  <tbody>\n",
       "    <tr>\n",
       "      <td>0</td>\n",
       "      <td>1556129658</td>\n",
       "      <td>52888</td>\n",
       "      <td>0</td>\n",
       "      <td>1</td>\n",
       "      <td>0</td>\n",
       "      <td>20</td>\n",
       "      <td>100</td>\n",
       "      <td>0</td>\n",
       "      <td>0</td>\n",
       "      <td>0</td>\n",
       "      <td>...</td>\n",
       "      <td>0.0</td>\n",
       "      <td>0.0</td>\n",
       "      <td>0.0</td>\n",
       "      <td>0.0</td>\n",
       "      <td>0.0</td>\n",
       "      <td>0.0</td>\n",
       "      <td>0.0</td>\n",
       "      <td>0.0</td>\n",
       "      <td>1.0</td>\n",
       "      <td>0.0</td>\n",
       "    </tr>\n",
       "    <tr>\n",
       "      <td>1</td>\n",
       "      <td>1556129738</td>\n",
       "      <td>2791</td>\n",
       "      <td>0</td>\n",
       "      <td>5</td>\n",
       "      <td>0</td>\n",
       "      <td>0</td>\n",
       "      <td>120</td>\n",
       "      <td>0</td>\n",
       "      <td>0</td>\n",
       "      <td>0</td>\n",
       "      <td>...</td>\n",
       "      <td>0.0</td>\n",
       "      <td>0.0</td>\n",
       "      <td>0.0</td>\n",
       "      <td>0.0</td>\n",
       "      <td>0.0</td>\n",
       "      <td>0.0</td>\n",
       "      <td>0.0</td>\n",
       "      <td>0.0</td>\n",
       "      <td>1.0</td>\n",
       "      <td>0.0</td>\n",
       "    </tr>\n",
       "    <tr>\n",
       "      <td>2</td>\n",
       "      <td>1556129778</td>\n",
       "      <td>2504</td>\n",
       "      <td>0</td>\n",
       "      <td>1</td>\n",
       "      <td>0</td>\n",
       "      <td>0</td>\n",
       "      <td>120</td>\n",
       "      <td>0</td>\n",
       "      <td>2</td>\n",
       "      <td>0</td>\n",
       "      <td>...</td>\n",
       "      <td>0.0</td>\n",
       "      <td>0.0</td>\n",
       "      <td>0.0</td>\n",
       "      <td>0.0</td>\n",
       "      <td>0.0</td>\n",
       "      <td>0.0</td>\n",
       "      <td>0.0</td>\n",
       "      <td>0.0</td>\n",
       "      <td>1.0</td>\n",
       "      <td>0.0</td>\n",
       "    </tr>\n",
       "    <tr>\n",
       "      <td>3</td>\n",
       "      <td>1556129788</td>\n",
       "      <td>3147</td>\n",
       "      <td>1</td>\n",
       "      <td>12</td>\n",
       "      <td>0</td>\n",
       "      <td>0</td>\n",
       "      <td>120</td>\n",
       "      <td>0</td>\n",
       "      <td>1</td>\n",
       "      <td>0</td>\n",
       "      <td>...</td>\n",
       "      <td>0.0</td>\n",
       "      <td>0.0</td>\n",
       "      <td>0.0</td>\n",
       "      <td>0.0</td>\n",
       "      <td>0.0</td>\n",
       "      <td>0.0</td>\n",
       "      <td>0.0</td>\n",
       "      <td>0.0</td>\n",
       "      <td>1.0</td>\n",
       "      <td>0.0</td>\n",
       "    </tr>\n",
       "    <tr>\n",
       "      <td>4</td>\n",
       "      <td>1556129798</td>\n",
       "      <td>52888</td>\n",
       "      <td>0</td>\n",
       "      <td>1</td>\n",
       "      <td>0</td>\n",
       "      <td>20</td>\n",
       "      <td>100</td>\n",
       "      <td>0</td>\n",
       "      <td>0</td>\n",
       "      <td>0</td>\n",
       "      <td>...</td>\n",
       "      <td>0.0</td>\n",
       "      <td>0.0</td>\n",
       "      <td>0.0</td>\n",
       "      <td>0.0</td>\n",
       "      <td>0.0</td>\n",
       "      <td>0.0</td>\n",
       "      <td>0.0</td>\n",
       "      <td>0.0</td>\n",
       "      <td>1.0</td>\n",
       "      <td>0.0</td>\n",
       "    </tr>\n",
       "  </tbody>\n",
       "</table>\n",
       "<p>5 rows × 30 columns</p>\n",
       "</div>"
      ],
      "text/plain": [
       "           ts    PID  TRUN  TSLPI  TSLPU  NICE  PRI  RTPR  CPUNR  EXC  ...  \\\n",
       "0  1556129658  52888     0      1      0    20  100     0      0    0  ...   \n",
       "1  1556129738   2791     0      5      0     0  120     0      0    0  ...   \n",
       "2  1556129778   2504     0      1      0     0  120     0      2    0  ...   \n",
       "3  1556129788   3147     1     12      0     0  120     0      1    0  ...   \n",
       "4  1556129798  52888     0      1      0    20  100     0      0    0  ...   \n",
       "\n",
       "   Status_N  Status_NC  Status_NE  Status_NS  State_D  State_E  State_I  \\\n",
       "0       0.0        0.0        0.0        0.0      0.0      0.0      0.0   \n",
       "1       0.0        0.0        0.0        0.0      0.0      0.0      0.0   \n",
       "2       0.0        0.0        0.0        0.0      0.0      0.0      0.0   \n",
       "3       0.0        0.0        0.0        0.0      0.0      0.0      0.0   \n",
       "4       0.0        0.0        0.0        0.0      0.0      0.0      0.0   \n",
       "\n",
       "   State_R  State_S  State_Z  \n",
       "0      0.0      1.0      0.0  \n",
       "1      0.0      1.0      0.0  \n",
       "2      0.0      1.0      0.0  \n",
       "3      0.0      1.0      0.0  \n",
       "4      0.0      1.0      0.0  \n",
       "\n",
       "[5 rows x 30 columns]"
      ]
     },
     "execution_count": 17,
     "metadata": {},
     "output_type": "execute_result"
    }
   ],
   "source": [
    "data.head()"
   ]
  },
  {
   "cell_type": "code",
   "execution_count": 18,
   "metadata": {},
   "outputs": [
    {
     "data": {
      "text/plain": [
       "4    100000\n",
       "7     10000\n",
       "6     10000\n",
       "5     10000\n",
       "2     10000\n",
       "1     10000\n",
       "0     10000\n",
       "3       112\n",
       "Name: type_Enc, dtype: int64"
      ]
     },
     "execution_count": 18,
     "metadata": {},
     "output_type": "execute_result"
    }
   ],
   "source": [
    "data[\"type_Enc\"].value_counts()"
   ]
  },
  {
   "cell_type": "code",
   "execution_count": 19,
   "metadata": {},
   "outputs": [],
   "source": [
    "y=data['type_Enc']"
   ]
  },
  {
   "cell_type": "code",
   "execution_count": 20,
   "metadata": {},
   "outputs": [],
   "source": [
    "x=data.drop(['type_Enc'], axis=1)"
   ]
  },
  {
   "cell_type": "markdown",
   "metadata": {},
   "source": [
    "## SCALING "
   ]
  },
  {
   "cell_type": "code",
   "execution_count": 21,
   "metadata": {
    "scrolled": true
   },
   "outputs": [],
   "source": [
    "# # STANDARD SCALER\n",
    "\n",
    "# from sklearn.preprocessing import StandardScaler\n",
    "# scaler = StandardScaler()\n",
    "\n",
    "# # extract numerical attributes and scale it to have zero mean and unit variance  \n",
    "# data_name=data.iloc[:,:-1]\n",
    "# cols = data_name.columns\n",
    "# sc_data = scaler.fit_transform(x)\n",
    "# # turn the result back to a dataframe\n",
    "# data = pd.DataFrame(sc_data, columns = cols)"
   ]
  },
  {
   "cell_type": "code",
   "execution_count": 22,
   "metadata": {},
   "outputs": [],
   "source": [
    "#MIN MAX SCALER\n",
    "\n",
    "mm_scaler = sklearn.preprocessing.MinMaxScaler()\n",
    "data_name=data.iloc[:,:-1]\n",
    "cols = data_name.columns\n",
    "sc_data = mm_scaler.fit_transform(x)\n",
    "# turn the result back to a dataframe\n",
    "data = pd.DataFrame(sc_data, columns = cols)"
   ]
  },
  {
   "cell_type": "code",
   "execution_count": 23,
   "metadata": {},
   "outputs": [
    {
     "data": {
      "text/html": [
       "<div>\n",
       "<style scoped>\n",
       "    .dataframe tbody tr th:only-of-type {\n",
       "        vertical-align: middle;\n",
       "    }\n",
       "\n",
       "    .dataframe tbody tr th {\n",
       "        vertical-align: top;\n",
       "    }\n",
       "\n",
       "    .dataframe thead th {\n",
       "        text-align: right;\n",
       "    }\n",
       "</style>\n",
       "<table border=\"1\" class=\"dataframe\">\n",
       "  <thead>\n",
       "    <tr style=\"text-align: right;\">\n",
       "      <th></th>\n",
       "      <th>ts</th>\n",
       "      <th>PID</th>\n",
       "      <th>TRUN</th>\n",
       "      <th>TSLPI</th>\n",
       "      <th>TSLPU</th>\n",
       "      <th>NICE</th>\n",
       "      <th>PRI</th>\n",
       "      <th>RTPR</th>\n",
       "      <th>CPUNR</th>\n",
       "      <th>EXC</th>\n",
       "      <th>...</th>\n",
       "      <th>Status_C</th>\n",
       "      <th>Status_N</th>\n",
       "      <th>Status_NC</th>\n",
       "      <th>Status_NE</th>\n",
       "      <th>Status_NS</th>\n",
       "      <th>State_D</th>\n",
       "      <th>State_E</th>\n",
       "      <th>State_I</th>\n",
       "      <th>State_R</th>\n",
       "      <th>State_S</th>\n",
       "    </tr>\n",
       "  </thead>\n",
       "  <tbody>\n",
       "    <tr>\n",
       "      <td>0</td>\n",
       "      <td>0.819986</td>\n",
       "      <td>0.996409</td>\n",
       "      <td>0.000000</td>\n",
       "      <td>0.014925</td>\n",
       "      <td>0.0</td>\n",
       "      <td>1.0</td>\n",
       "      <td>0.719424</td>\n",
       "      <td>0.0</td>\n",
       "      <td>0.0</td>\n",
       "      <td>0.0</td>\n",
       "      <td>...</td>\n",
       "      <td>0.0</td>\n",
       "      <td>0.0</td>\n",
       "      <td>0.0</td>\n",
       "      <td>0.0</td>\n",
       "      <td>0.0</td>\n",
       "      <td>0.0</td>\n",
       "      <td>0.0</td>\n",
       "      <td>0.0</td>\n",
       "      <td>1.0</td>\n",
       "      <td>0.0</td>\n",
       "    </tr>\n",
       "    <tr>\n",
       "      <td>1</td>\n",
       "      <td>0.820020</td>\n",
       "      <td>0.034263</td>\n",
       "      <td>0.000000</td>\n",
       "      <td>0.074627</td>\n",
       "      <td>0.0</td>\n",
       "      <td>0.0</td>\n",
       "      <td>0.863309</td>\n",
       "      <td>0.0</td>\n",
       "      <td>0.0</td>\n",
       "      <td>0.0</td>\n",
       "      <td>...</td>\n",
       "      <td>0.0</td>\n",
       "      <td>0.0</td>\n",
       "      <td>0.0</td>\n",
       "      <td>0.0</td>\n",
       "      <td>0.0</td>\n",
       "      <td>0.0</td>\n",
       "      <td>0.0</td>\n",
       "      <td>0.0</td>\n",
       "      <td>1.0</td>\n",
       "      <td>0.0</td>\n",
       "    </tr>\n",
       "    <tr>\n",
       "      <td>2</td>\n",
       "      <td>0.820038</td>\n",
       "      <td>0.028751</td>\n",
       "      <td>0.000000</td>\n",
       "      <td>0.014925</td>\n",
       "      <td>0.0</td>\n",
       "      <td>0.0</td>\n",
       "      <td>0.863309</td>\n",
       "      <td>0.0</td>\n",
       "      <td>0.4</td>\n",
       "      <td>0.0</td>\n",
       "      <td>...</td>\n",
       "      <td>0.0</td>\n",
       "      <td>0.0</td>\n",
       "      <td>0.0</td>\n",
       "      <td>0.0</td>\n",
       "      <td>0.0</td>\n",
       "      <td>0.0</td>\n",
       "      <td>0.0</td>\n",
       "      <td>0.0</td>\n",
       "      <td>1.0</td>\n",
       "      <td>0.0</td>\n",
       "    </tr>\n",
       "    <tr>\n",
       "      <td>3</td>\n",
       "      <td>0.820042</td>\n",
       "      <td>0.041100</td>\n",
       "      <td>0.111111</td>\n",
       "      <td>0.179104</td>\n",
       "      <td>0.0</td>\n",
       "      <td>0.0</td>\n",
       "      <td>0.863309</td>\n",
       "      <td>0.0</td>\n",
       "      <td>0.2</td>\n",
       "      <td>0.0</td>\n",
       "      <td>...</td>\n",
       "      <td>0.0</td>\n",
       "      <td>0.0</td>\n",
       "      <td>0.0</td>\n",
       "      <td>0.0</td>\n",
       "      <td>0.0</td>\n",
       "      <td>0.0</td>\n",
       "      <td>0.0</td>\n",
       "      <td>0.0</td>\n",
       "      <td>1.0</td>\n",
       "      <td>0.0</td>\n",
       "    </tr>\n",
       "    <tr>\n",
       "      <td>4</td>\n",
       "      <td>0.820046</td>\n",
       "      <td>0.996409</td>\n",
       "      <td>0.000000</td>\n",
       "      <td>0.014925</td>\n",
       "      <td>0.0</td>\n",
       "      <td>1.0</td>\n",
       "      <td>0.719424</td>\n",
       "      <td>0.0</td>\n",
       "      <td>0.0</td>\n",
       "      <td>0.0</td>\n",
       "      <td>...</td>\n",
       "      <td>0.0</td>\n",
       "      <td>0.0</td>\n",
       "      <td>0.0</td>\n",
       "      <td>0.0</td>\n",
       "      <td>0.0</td>\n",
       "      <td>0.0</td>\n",
       "      <td>0.0</td>\n",
       "      <td>0.0</td>\n",
       "      <td>1.0</td>\n",
       "      <td>0.0</td>\n",
       "    </tr>\n",
       "    <tr>\n",
       "      <td>...</td>\n",
       "      <td>...</td>\n",
       "      <td>...</td>\n",
       "      <td>...</td>\n",
       "      <td>...</td>\n",
       "      <td>...</td>\n",
       "      <td>...</td>\n",
       "      <td>...</td>\n",
       "      <td>...</td>\n",
       "      <td>...</td>\n",
       "      <td>...</td>\n",
       "      <td>...</td>\n",
       "      <td>...</td>\n",
       "      <td>...</td>\n",
       "      <td>...</td>\n",
       "      <td>...</td>\n",
       "      <td>...</td>\n",
       "      <td>...</td>\n",
       "      <td>...</td>\n",
       "      <td>...</td>\n",
       "      <td>...</td>\n",
       "      <td>...</td>\n",
       "    </tr>\n",
       "    <tr>\n",
       "      <td>160107</td>\n",
       "      <td>0.013705</td>\n",
       "      <td>0.029001</td>\n",
       "      <td>0.000000</td>\n",
       "      <td>0.029851</td>\n",
       "      <td>0.0</td>\n",
       "      <td>0.0</td>\n",
       "      <td>0.863309</td>\n",
       "      <td>0.0</td>\n",
       "      <td>0.0</td>\n",
       "      <td>0.0</td>\n",
       "      <td>...</td>\n",
       "      <td>0.0</td>\n",
       "      <td>0.0</td>\n",
       "      <td>0.0</td>\n",
       "      <td>0.0</td>\n",
       "      <td>0.0</td>\n",
       "      <td>0.0</td>\n",
       "      <td>0.0</td>\n",
       "      <td>0.0</td>\n",
       "      <td>1.0</td>\n",
       "      <td>0.0</td>\n",
       "    </tr>\n",
       "    <tr>\n",
       "      <td>160108</td>\n",
       "      <td>0.013707</td>\n",
       "      <td>0.033495</td>\n",
       "      <td>0.000000</td>\n",
       "      <td>0.044776</td>\n",
       "      <td>0.0</td>\n",
       "      <td>0.0</td>\n",
       "      <td>0.863309</td>\n",
       "      <td>0.0</td>\n",
       "      <td>0.2</td>\n",
       "      <td>0.0</td>\n",
       "      <td>...</td>\n",
       "      <td>0.0</td>\n",
       "      <td>0.0</td>\n",
       "      <td>0.0</td>\n",
       "      <td>0.0</td>\n",
       "      <td>0.0</td>\n",
       "      <td>0.0</td>\n",
       "      <td>0.0</td>\n",
       "      <td>0.0</td>\n",
       "      <td>1.0</td>\n",
       "      <td>0.0</td>\n",
       "    </tr>\n",
       "    <tr>\n",
       "      <td>160109</td>\n",
       "      <td>0.013709</td>\n",
       "      <td>0.030268</td>\n",
       "      <td>0.000000</td>\n",
       "      <td>0.059701</td>\n",
       "      <td>0.0</td>\n",
       "      <td>0.0</td>\n",
       "      <td>0.863309</td>\n",
       "      <td>0.0</td>\n",
       "      <td>0.4</td>\n",
       "      <td>0.0</td>\n",
       "      <td>...</td>\n",
       "      <td>0.0</td>\n",
       "      <td>0.0</td>\n",
       "      <td>0.0</td>\n",
       "      <td>0.0</td>\n",
       "      <td>0.0</td>\n",
       "      <td>0.0</td>\n",
       "      <td>0.0</td>\n",
       "      <td>0.0</td>\n",
       "      <td>1.0</td>\n",
       "      <td>0.0</td>\n",
       "    </tr>\n",
       "    <tr>\n",
       "      <td>160110</td>\n",
       "      <td>0.013711</td>\n",
       "      <td>0.028463</td>\n",
       "      <td>0.000000</td>\n",
       "      <td>0.029851</td>\n",
       "      <td>0.0</td>\n",
       "      <td>0.0</td>\n",
       "      <td>0.863309</td>\n",
       "      <td>0.0</td>\n",
       "      <td>0.6</td>\n",
       "      <td>0.0</td>\n",
       "      <td>...</td>\n",
       "      <td>0.0</td>\n",
       "      <td>0.0</td>\n",
       "      <td>0.0</td>\n",
       "      <td>0.0</td>\n",
       "      <td>0.0</td>\n",
       "      <td>0.0</td>\n",
       "      <td>0.0</td>\n",
       "      <td>0.0</td>\n",
       "      <td>1.0</td>\n",
       "      <td>0.0</td>\n",
       "    </tr>\n",
       "    <tr>\n",
       "      <td>160111</td>\n",
       "      <td>0.013713</td>\n",
       "      <td>0.025351</td>\n",
       "      <td>0.000000</td>\n",
       "      <td>0.014925</td>\n",
       "      <td>0.0</td>\n",
       "      <td>0.0</td>\n",
       "      <td>0.863309</td>\n",
       "      <td>0.0</td>\n",
       "      <td>0.2</td>\n",
       "      <td>0.0</td>\n",
       "      <td>...</td>\n",
       "      <td>0.0</td>\n",
       "      <td>0.0</td>\n",
       "      <td>0.0</td>\n",
       "      <td>0.0</td>\n",
       "      <td>0.0</td>\n",
       "      <td>0.0</td>\n",
       "      <td>0.0</td>\n",
       "      <td>0.0</td>\n",
       "      <td>1.0</td>\n",
       "      <td>0.0</td>\n",
       "    </tr>\n",
       "  </tbody>\n",
       "</table>\n",
       "<p>160112 rows × 29 columns</p>\n",
       "</div>"
      ],
      "text/plain": [
       "              ts       PID      TRUN     TSLPI  TSLPU  NICE       PRI  RTPR  \\\n",
       "0       0.819986  0.996409  0.000000  0.014925    0.0   1.0  0.719424   0.0   \n",
       "1       0.820020  0.034263  0.000000  0.074627    0.0   0.0  0.863309   0.0   \n",
       "2       0.820038  0.028751  0.000000  0.014925    0.0   0.0  0.863309   0.0   \n",
       "3       0.820042  0.041100  0.111111  0.179104    0.0   0.0  0.863309   0.0   \n",
       "4       0.820046  0.996409  0.000000  0.014925    0.0   1.0  0.719424   0.0   \n",
       "...          ...       ...       ...       ...    ...   ...       ...   ...   \n",
       "160107  0.013705  0.029001  0.000000  0.029851    0.0   0.0  0.863309   0.0   \n",
       "160108  0.013707  0.033495  0.000000  0.044776    0.0   0.0  0.863309   0.0   \n",
       "160109  0.013709  0.030268  0.000000  0.059701    0.0   0.0  0.863309   0.0   \n",
       "160110  0.013711  0.028463  0.000000  0.029851    0.0   0.0  0.863309   0.0   \n",
       "160111  0.013713  0.025351  0.000000  0.014925    0.0   0.0  0.863309   0.0   \n",
       "\n",
       "        CPUNR  EXC  ...  Status_C  Status_N  Status_NC  Status_NE  Status_NS  \\\n",
       "0         0.0  0.0  ...       0.0       0.0        0.0        0.0        0.0   \n",
       "1         0.0  0.0  ...       0.0       0.0        0.0        0.0        0.0   \n",
       "2         0.4  0.0  ...       0.0       0.0        0.0        0.0        0.0   \n",
       "3         0.2  0.0  ...       0.0       0.0        0.0        0.0        0.0   \n",
       "4         0.0  0.0  ...       0.0       0.0        0.0        0.0        0.0   \n",
       "...       ...  ...  ...       ...       ...        ...        ...        ...   \n",
       "160107    0.0  0.0  ...       0.0       0.0        0.0        0.0        0.0   \n",
       "160108    0.2  0.0  ...       0.0       0.0        0.0        0.0        0.0   \n",
       "160109    0.4  0.0  ...       0.0       0.0        0.0        0.0        0.0   \n",
       "160110    0.6  0.0  ...       0.0       0.0        0.0        0.0        0.0   \n",
       "160111    0.2  0.0  ...       0.0       0.0        0.0        0.0        0.0   \n",
       "\n",
       "        State_D  State_E  State_I  State_R  State_S  \n",
       "0           0.0      0.0      0.0      1.0      0.0  \n",
       "1           0.0      0.0      0.0      1.0      0.0  \n",
       "2           0.0      0.0      0.0      1.0      0.0  \n",
       "3           0.0      0.0      0.0      1.0      0.0  \n",
       "4           0.0      0.0      0.0      1.0      0.0  \n",
       "...         ...      ...      ...      ...      ...  \n",
       "160107      0.0      0.0      0.0      1.0      0.0  \n",
       "160108      0.0      0.0      0.0      1.0      0.0  \n",
       "160109      0.0      0.0      0.0      1.0      0.0  \n",
       "160110      0.0      0.0      0.0      1.0      0.0  \n",
       "160111      0.0      0.0      0.0      1.0      0.0  \n",
       "\n",
       "[160112 rows x 29 columns]"
      ]
     },
     "execution_count": 23,
     "metadata": {},
     "output_type": "execute_result"
    }
   ],
   "source": [
    "data"
   ]
  },
  {
   "cell_type": "code",
   "execution_count": 24,
   "metadata": {},
   "outputs": [],
   "source": [
    "# plt.figure(figsize=(20,10))\n",
    "# sns.heatmap(data.corr())"
   ]
  },
  {
   "cell_type": "markdown",
   "metadata": {},
   "source": [
    "### SAMPLING"
   ]
  },
  {
   "cell_type": "code",
   "execution_count": 25,
   "metadata": {},
   "outputs": [
    {
     "data": {
      "text/plain": [
       "4    100000\n",
       "7     10000\n",
       "6     10000\n",
       "5     10000\n",
       "2     10000\n",
       "1     10000\n",
       "0     10000\n",
       "3       112\n",
       "Name: type_Enc, dtype: int64"
      ]
     },
     "execution_count": 25,
     "metadata": {},
     "output_type": "execute_result"
    }
   ],
   "source": [
    "y.value_counts()"
   ]
  },
  {
   "cell_type": "code",
   "execution_count": 26,
   "metadata": {},
   "outputs": [],
   "source": [
    "import imblearn\n",
    "# from imblearn.under_sampling import RandomUnderSampler\n",
    "from imblearn.over_sampling import RandomOverSampler\n",
    "\n",
    "s_strategy = {0: 10000, 1: 10000, 2:10000, 3:10000, 4:100000, 5:10000}\n",
    "\n",
    "# ru = RandomUnderSampler()\n",
    "ro=RandomOverSampler(sampling_strategy='auto',random_state=1)\n",
    "# Xres, yres = ru.fit_sample(data,y)\n",
    "\n",
    "Xres1,yres1=ro.fit_resample(x,y)\n",
    "\n",
    "# oversample = RandomOverSampler(sampling_strategy=0.75) #75% oversampling\n",
    "# X_res, y_res= oversample.fit_resample(X_train,y_train)"
   ]
  },
  {
   "cell_type": "code",
   "execution_count": 27,
   "metadata": {},
   "outputs": [
    {
     "data": {
      "text/plain": [
       "7    100000\n",
       "6    100000\n",
       "5    100000\n",
       "4    100000\n",
       "3    100000\n",
       "2    100000\n",
       "1    100000\n",
       "0    100000\n",
       "Name: type_Enc, dtype: int64"
      ]
     },
     "execution_count": 27,
     "metadata": {},
     "output_type": "execute_result"
    }
   ],
   "source": [
    "yres1.value_counts()"
   ]
  },
  {
   "cell_type": "code",
   "execution_count": 28,
   "metadata": {},
   "outputs": [],
   "source": [
    "from sklearn import model_selection\n",
    "from sklearn.model_selection import StratifiedKFold,KFold,RepeatedStratifiedKFold,cross_val_score\n",
    "from numpy import mean"
   ]
  },
  {
   "cell_type": "markdown",
   "metadata": {},
   "source": [
    "### TRAIN TEST SPLIT"
   ]
  },
  {
   "cell_type": "code",
   "execution_count": 29,
   "metadata": {},
   "outputs": [],
   "source": [
    "X_train, X_test, y_train, y_test = model_selection.train_test_split(Xres1,yres1, test_size=0.25, random_state=42, stratify=yres1)"
   ]
  },
  {
   "cell_type": "markdown",
   "metadata": {},
   "source": [
    "### MODEL -ADABOOST"
   ]
  },
  {
   "cell_type": "code",
   "execution_count": 30,
   "metadata": {},
   "outputs": [],
   "source": [
    "from sklearn.ensemble import AdaBoostClassifier\n",
    "model = AdaBoostClassifier(random_state=42)"
   ]
  },
  {
   "cell_type": "code",
   "execution_count": 34,
   "metadata": {},
   "outputs": [
    {
     "name": "stderr",
     "output_type": "stream",
     "text": [
      "C:\\Users\\hriti\\Anaconda3\\lib\\site-packages\\ipykernel_launcher.py:2: DeprecationWarning: time.clock has been deprecated in Python 3.3 and will be removed from Python 3.8: use time.perf_counter or time.process_time instead\n",
      "  \n"
     ]
    },
    {
     "name": "stdout",
     "output_type": "stream",
     "text": [
      "0.375\n",
      "56.777735199999825\n"
     ]
    },
    {
     "name": "stderr",
     "output_type": "stream",
     "text": [
      "C:\\Users\\hriti\\Anaconda3\\lib\\site-packages\\ipykernel_launcher.py:6: DeprecationWarning: time.clock has been deprecated in Python 3.3 and will be removed from Python 3.8: use time.perf_counter or time.process_time instead\n",
      "  \n"
     ]
    }
   ],
   "source": [
    "import time \n",
    "time_start=time.clock()\n",
    "model.fit(X_train, y_train)\n",
    "print(model.score(X_test,y_test))\n",
    "\n",
    "time_elapsed=(time.clock()-time_start)\n",
    "print(time_elapsed)"
   ]
  },
  {
   "cell_type": "code",
   "execution_count": 32,
   "metadata": {},
   "outputs": [
    {
     "name": "stdout",
     "output_type": "stream",
     "text": [
      "0.00014519999990625365\n"
     ]
    },
    {
     "name": "stderr",
     "output_type": "stream",
     "text": [
      "C:\\Users\\hriti\\Anaconda3\\lib\\site-packages\\ipykernel_launcher.py:2: DeprecationWarning: time.clock has been deprecated in Python 3.3 and will be removed from Python 3.8: use time.perf_counter or time.process_time instead\n",
      "  \n",
      "C:\\Users\\hriti\\Anaconda3\\lib\\site-packages\\ipykernel_launcher.py:3: DeprecationWarning: time.clock has been deprecated in Python 3.3 and will be removed from Python 3.8: use time.perf_counter or time.process_time instead\n",
      "  This is separate from the ipykernel package so we can avoid doing imports until\n"
     ]
    }
   ],
   "source": []
  },
  {
   "cell_type": "code",
   "execution_count": 31,
   "metadata": {},
   "outputs": [],
   "source": [
    "from sklearn.metrics import classification_report,confusion_matrix\n",
    "from sklearn import metrics\n",
    "from sklearn.metrics import accuracy_score, f1_score, auc, roc_curve, roc_auc_score"
   ]
  },
  {
   "cell_type": "code",
   "execution_count": 32,
   "metadata": {},
   "outputs": [],
   "source": [
    "pred1=model.predict(X_test)"
   ]
  },
  {
   "cell_type": "code",
   "execution_count": 33,
   "metadata": {},
   "outputs": [
    {
     "data": {
      "text/plain": [
       "array([[    0,     0, 25000,     0,     0,     0,     0,     0],\n",
       "       [    0,     0, 25000,     0,     0,     0,     0,     0],\n",
       "       [    0,     0, 25000,     0,     0,     0,     0,     0],\n",
       "       [    0,     0,     0, 25000,     0,     0,     0,     0],\n",
       "       [    0,     0,     0,     0, 25000,     0,     0,     0],\n",
       "       [    0,     0, 25000,     0,     0,     0,     0,     0],\n",
       "       [    0,     0, 25000,     0,     0,     0,     0,     0],\n",
       "       [    0,     0, 25000,     0,     0,     0,     0,     0]],\n",
       "      dtype=int64)"
      ]
     },
     "execution_count": 33,
     "metadata": {},
     "output_type": "execute_result"
    }
   ],
   "source": [
    "# The major diagonal represents the true values\n",
    "confusion_matrix(y_test,pred1)"
   ]
  },
  {
   "cell_type": "code",
   "execution_count": 34,
   "metadata": {},
   "outputs": [
    {
     "name": "stderr",
     "output_type": "stream",
     "text": [
      "C:\\Users\\hriti\\Anaconda3\\lib\\site-packages\\sklearn\\metrics\\_classification.py:1221: UndefinedMetricWarning: Precision and F-score are ill-defined and being set to 0.0 in labels with no predicted samples. Use `zero_division` parameter to control this behavior.\n",
      "  _warn_prf(average, modifier, msg_start, len(result))\n"
     ]
    },
    {
     "name": "stdout",
     "output_type": "stream",
     "text": [
      "              precision  recall  f1-score     support\n",
      "macro avg      0.270833   0.375  0.285714  200000.000\n",
      "weighted avg   0.270833   0.375  0.285714  200000.000\n",
      "0              0.000000   0.000  0.000000   25000.000\n",
      "1              0.000000   0.000  0.000000   25000.000\n",
      "2              0.166667   1.000  0.285714   25000.000\n",
      "3              1.000000   1.000  1.000000   25000.000\n",
      "4              1.000000   1.000  1.000000   25000.000\n",
      "5              0.000000   0.000  0.000000   25000.000\n",
      "6              0.000000   0.000  0.000000   25000.000\n",
      "7              0.000000   0.000  0.000000   25000.000\n",
      "accuracy       0.375000   0.375  0.375000       0.375\n"
     ]
    }
   ],
   "source": [
    "def get_classification_report(y_test, pred1): \n",
    "    report = metrics.classification_report(y_test, pred1, output_dict=True)\n",
    "    df_classification_report = pd.DataFrame(report).transpose()\n",
    "    df_classification_report = df_classification_report.sort_values(by=['support'], ascending=False)\n",
    "    \n",
    "    return df_classification_report\n",
    "\n",
    "C_R = get_classification_report(y_test, pred1)\n",
    "print(C_R)"
   ]
  },
  {
   "cell_type": "code",
   "execution_count": null,
   "metadata": {},
   "outputs": [],
   "source": []
  },
  {
   "cell_type": "markdown",
   "metadata": {},
   "source": [
    "### K FOLD CROSS VALIDATION"
   ]
  },
  {
   "cell_type": "markdown",
   "metadata": {},
   "source": [
    "- ### KFold"
   ]
  },
  {
   "cell_type": "code",
   "execution_count": 31,
   "metadata": {},
   "outputs": [],
   "source": [
    "model = AdaBoostClassifier(random_state=42)\n",
    "def evaluate_model(model):\n",
    "    \n",
    "    KF=KFold(n_splits=10)\n",
    "    score1 = cross_val_score(model, X_train, y_train, scoring='accuracy', cv=KF)\n",
    "    \n",
    "    list_scores=[mean(score1)]\n",
    "    \n",
    "    return list_scores\n",
    "\n",
    "scores = evaluate_model(model)"
   ]
  },
  {
   "cell_type": "code",
   "execution_count": 32,
   "metadata": {
    "scrolled": true
   },
   "outputs": [
    {
     "name": "stdout",
     "output_type": "stream",
     "text": [
      "KFOLD CROSS VALIDATION SCORE\n",
      "------------------------------------\n",
      "KFold - 37.28 %\n"
     ]
    }
   ],
   "source": [
    "names=[\"KFold\"]\n",
    "print(\"KFOLD CROSS VALIDATION SCORE\")\n",
    "print(\"------------------------------------\")\n",
    "\n",
    "for (i,j) in zip(scores,names):\n",
    "    print(j,\"-\",round(i*100,2),'%')\n",
    "   \n",
    "    "
   ]
  },
  {
   "cell_type": "markdown",
   "metadata": {},
   "source": [
    "#### All the type of Cross validation give the accuracy around 96.9%"
   ]
  },
  {
   "cell_type": "code",
   "execution_count": null,
   "metadata": {},
   "outputs": [],
   "source": []
  },
  {
   "cell_type": "markdown",
   "metadata": {},
   "source": [
    "## HYPER PARAMETRIC TUNING"
   ]
  },
  {
   "cell_type": "code",
   "execution_count": 35,
   "metadata": {},
   "outputs": [],
   "source": [
    "params={'n_estimators': [200,300],\n",
    "           'learning_rate': [0.01,0.015]}"
   ]
  },
  {
   "cell_type": "code",
   "execution_count": 36,
   "metadata": {},
   "outputs": [],
   "source": [
    "from sklearn.model_selection import GridSearchCV"
   ]
  },
  {
   "cell_type": "code",
   "execution_count": 37,
   "metadata": {},
   "outputs": [],
   "source": [
    "grid = GridSearchCV(AdaBoostClassifier(),params,refit=True,verbose=3)\n"
   ]
  },
  {
   "cell_type": "code",
   "execution_count": 38,
   "metadata": {},
   "outputs": [],
   "source": [
    "# X_train.iloc[np.random.randint(low=0, high=450000, size=int(0.15 * 450000))]\n",
    "# X_train1=X_train.sample(frac=0.35)\n",
    "# y_train1=y_train.sample(frac=0.35)"
   ]
  },
  {
   "cell_type": "code",
   "execution_count": 39,
   "metadata": {},
   "outputs": [
    {
     "data": {
      "text/plain": [
       "(600000,)"
      ]
     },
     "execution_count": 39,
     "metadata": {},
     "output_type": "execute_result"
    }
   ],
   "source": [
    "X_train.shape\n",
    "y_train.shape"
   ]
  },
  {
   "cell_type": "code",
   "execution_count": 40,
   "metadata": {},
   "outputs": [
    {
     "name": "stdout",
     "output_type": "stream",
     "text": [
      "Fitting 5 folds for each of 4 candidates, totalling 20 fits\n"
     ]
    },
    {
     "name": "stderr",
     "output_type": "stream",
     "text": [
      "[Parallel(n_jobs=1)]: Using backend SequentialBackend with 1 concurrent workers.\n"
     ]
    },
    {
     "name": "stdout",
     "output_type": "stream",
     "text": [
      "[CV] learning_rate=0.01, n_estimators=200 ............................\n",
      "[CV]  learning_rate=0.01, n_estimators=200, score=0.626, total= 2.4min\n",
      "[CV] learning_rate=0.01, n_estimators=200 ............................\n"
     ]
    },
    {
     "name": "stderr",
     "output_type": "stream",
     "text": [
      "[Parallel(n_jobs=1)]: Done   1 out of   1 | elapsed:  2.4min remaining:    0.0s\n"
     ]
    },
    {
     "name": "stdout",
     "output_type": "stream",
     "text": [
      "[CV]  learning_rate=0.01, n_estimators=200, score=0.626, total= 2.4min\n",
      "[CV] learning_rate=0.01, n_estimators=200 ............................\n"
     ]
    },
    {
     "name": "stderr",
     "output_type": "stream",
     "text": [
      "[Parallel(n_jobs=1)]: Done   2 out of   2 | elapsed:  4.9min remaining:    0.0s\n"
     ]
    },
    {
     "name": "stdout",
     "output_type": "stream",
     "text": [
      "[CV]  learning_rate=0.01, n_estimators=200, score=0.627, total= 2.6min\n",
      "[CV] learning_rate=0.01, n_estimators=200 ............................\n",
      "[CV]  learning_rate=0.01, n_estimators=200, score=0.627, total= 3.0min\n",
      "[CV] learning_rate=0.01, n_estimators=200 ............................\n",
      "[CV]  learning_rate=0.01, n_estimators=200, score=0.626, total= 2.8min\n",
      "[CV] learning_rate=0.01, n_estimators=300 ............................\n",
      "[CV]  learning_rate=0.01, n_estimators=300, score=0.703, total= 4.1min\n",
      "[CV] learning_rate=0.01, n_estimators=300 ............................\n",
      "[CV]  learning_rate=0.01, n_estimators=300, score=0.704, total= 3.7min\n",
      "[CV] learning_rate=0.01, n_estimators=300 ............................\n",
      "[CV]  learning_rate=0.01, n_estimators=300, score=0.703, total= 3.6min\n",
      "[CV] learning_rate=0.01, n_estimators=300 ............................\n",
      "[CV]  learning_rate=0.01, n_estimators=300, score=0.703, total= 3.6min\n",
      "[CV] learning_rate=0.01, n_estimators=300 ............................\n",
      "[CV]  learning_rate=0.01, n_estimators=300, score=0.704, total= 3.6min\n",
      "[CV] learning_rate=0.015, n_estimators=200 ...........................\n",
      "[CV]  learning_rate=0.015, n_estimators=200, score=0.703, total= 2.6min\n",
      "[CV] learning_rate=0.015, n_estimators=200 ...........................\n",
      "[CV]  learning_rate=0.015, n_estimators=200, score=0.704, total= 2.7min\n",
      "[CV] learning_rate=0.015, n_estimators=200 ...........................\n",
      "[CV]  learning_rate=0.015, n_estimators=200, score=0.703, total= 2.8min\n",
      "[CV] learning_rate=0.015, n_estimators=200 ...........................\n",
      "[CV]  learning_rate=0.015, n_estimators=200, score=0.703, total= 2.8min\n",
      "[CV] learning_rate=0.015, n_estimators=200 ...........................\n",
      "[CV]  learning_rate=0.015, n_estimators=200, score=0.704, total= 1.9min\n",
      "[CV] learning_rate=0.015, n_estimators=300 ...........................\n",
      "[CV]  learning_rate=0.015, n_estimators=300, score=0.701, total= 2.9min\n",
      "[CV] learning_rate=0.015, n_estimators=300 ...........................\n",
      "[CV]  learning_rate=0.015, n_estimators=300, score=0.701, total= 3.2min\n",
      "[CV] learning_rate=0.015, n_estimators=300 ...........................\n",
      "[CV]  learning_rate=0.015, n_estimators=300, score=0.702, total= 3.5min\n",
      "[CV] learning_rate=0.015, n_estimators=300 ...........................\n",
      "[CV]  learning_rate=0.015, n_estimators=300, score=0.700, total= 3.3min\n",
      "[CV] learning_rate=0.015, n_estimators=300 ...........................\n",
      "[CV]  learning_rate=0.015, n_estimators=300, score=0.701, total= 3.6min\n"
     ]
    },
    {
     "name": "stderr",
     "output_type": "stream",
     "text": [
      "[Parallel(n_jobs=1)]: Done  20 out of  20 | elapsed: 61.1min finished\n"
     ]
    },
    {
     "data": {
      "text/plain": [
       "GridSearchCV(estimator=AdaBoostClassifier(),\n",
       "             param_grid={'learning_rate': [0.01, 0.015],\n",
       "                         'n_estimators': [200, 300]},\n",
       "             verbose=3)"
      ]
     },
     "execution_count": 40,
     "metadata": {},
     "output_type": "execute_result"
    }
   ],
   "source": [
    "grid.fit(X_train,y_train)"
   ]
  },
  {
   "cell_type": "code",
   "execution_count": 41,
   "metadata": {},
   "outputs": [
    {
     "data": {
      "text/plain": [
       "{'learning_rate': 0.01, 'n_estimators': 300}"
      ]
     },
     "execution_count": 41,
     "metadata": {},
     "output_type": "execute_result"
    }
   ],
   "source": [
    "grid.best_params_\n"
   ]
  },
  {
   "cell_type": "code",
   "execution_count": 42,
   "metadata": {},
   "outputs": [
    {
     "data": {
      "text/plain": [
       "AdaBoostClassifier(learning_rate=0.01, n_estimators=300)"
      ]
     },
     "execution_count": 42,
     "metadata": {},
     "output_type": "execute_result"
    }
   ],
   "source": [
    "grid.best_estimator_"
   ]
  },
  {
   "cell_type": "code",
   "execution_count": 43,
   "metadata": {},
   "outputs": [],
   "source": [
    "grid_predictions = grid.predict(X_test)"
   ]
  },
  {
   "cell_type": "code",
   "execution_count": 44,
   "metadata": {},
   "outputs": [],
   "source": [
    "from sklearn.metrics import classification_report,confusion_matrix"
   ]
  },
  {
   "cell_type": "code",
   "execution_count": 45,
   "metadata": {},
   "outputs": [
    {
     "name": "stdout",
     "output_type": "stream",
     "text": [
      "[[10948 13898     0     0     0    20   128     6]\n",
      " [    0 24062   436     0     0     0   502     0]\n",
      " [   49 17268  7560     0     0     0   123     0]\n",
      " [    0     0     0 20666     0   891     0  3443]\n",
      " [    0     0     0     0 25000     0     0     0]\n",
      " [    0     0     0     0     0 23410     0  1590]\n",
      " [  216     0     0     0     0     0 24784     0]\n",
      " [    0     0     0     0     0 20336     0  4664]]\n"
     ]
    }
   ],
   "source": [
    "print(confusion_matrix(y_test,grid_predictions))"
   ]
  },
  {
   "cell_type": "code",
   "execution_count": 46,
   "metadata": {},
   "outputs": [
    {
     "name": "stdout",
     "output_type": "stream",
     "text": [
      "              precision    recall  f1-score   support\n",
      "\n",
      "           0       0.98      0.44      0.60     25000\n",
      "           1       0.44      0.96      0.60     25000\n",
      "           2       0.95      0.30      0.46     25000\n",
      "           3       1.00      0.83      0.91     25000\n",
      "           4       1.00      1.00      1.00     25000\n",
      "           5       0.52      0.94      0.67     25000\n",
      "           6       0.97      0.99      0.98     25000\n",
      "           7       0.48      0.19      0.27     25000\n",
      "\n",
      "    accuracy                           0.71    200000\n",
      "   macro avg       0.79      0.71      0.69    200000\n",
      "weighted avg       0.79      0.71      0.69    200000\n",
      "\n"
     ]
    }
   ],
   "source": [
    "print(classification_report(y_test,grid_predictions))"
   ]
  },
  {
   "cell_type": "code",
   "execution_count": null,
   "metadata": {},
   "outputs": [],
   "source": []
  }
 ],
 "metadata": {
  "kernelspec": {
   "display_name": "Python 3",
   "language": "python",
   "name": "python3"
  },
  "language_info": {
   "codemirror_mode": {
    "name": "ipython",
    "version": 3
   },
   "file_extension": ".py",
   "mimetype": "text/x-python",
   "name": "python",
   "nbconvert_exporter": "python",
   "pygments_lexer": "ipython3",
   "version": "3.7.4"
  }
 },
 "nbformat": 4,
 "nbformat_minor": 2
}
