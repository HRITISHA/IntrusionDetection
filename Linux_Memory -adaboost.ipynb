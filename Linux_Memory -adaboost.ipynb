{
 "cells": [
  {
   "cell_type": "markdown",
   "metadata": {},
   "source": [
    "# <font color=\"red\"> ISAA PROJECT- </font> 18BIT0226"
   ]
  },
  {
   "cell_type": "markdown",
   "metadata": {},
   "source": [
    "## MODEL -  ADABOOST"
   ]
  },
  {
   "cell_type": "markdown",
   "metadata": {},
   "source": [
    "***GRADIENT BOOSTING***  \n",
    "<div style=\"background-color:rgb(253, 255, 135); \"> Gradient boosting is a machine learning technique for regression and classification problems, which produces a prediction model in the form of an ensemble of weak prediction models, typically decision trees.</div>"
   ]
  },
  {
   "cell_type": "markdown",
   "metadata": {},
   "source": [
    "## <font color=\"blue\"> 1/3 DATASET </font> - LINUX MEMORY"
   ]
  },
  {
   "cell_type": "markdown",
   "metadata": {},
   "source": [
    "****"
   ]
  },
  {
   "cell_type": "markdown",
   "metadata": {},
   "source": [
    "### IMPORT THE LIBRARIES"
   ]
  },
  {
   "cell_type": "code",
   "execution_count": 2,
   "metadata": {},
   "outputs": [],
   "source": [
    "import matplotlib\n",
    "import matplotlib.pyplot as plt\n",
    "import pandas as pd\n",
    "import numpy as np\n",
    "import seaborn as sns\n",
    "import sklearn\n",
    "import warnings\n",
    "warnings.filterwarnings('ignore')\n",
    "\n",
    "%matplotlib inline"
   ]
  },
  {
   "cell_type": "code",
   "execution_count": 3,
   "metadata": {},
   "outputs": [],
   "source": [
    "# DATA\n",
    "data=pd.read_csv(\"Train_Test_Linux_dataset/Train_Test_Linux_memory.csv\")"
   ]
  },
  {
   "cell_type": "code",
   "execution_count": 4,
   "metadata": {},
   "outputs": [
    {
     "data": {
      "text/html": [
       "<div>\n",
       "<style scoped>\n",
       "    .dataframe tbody tr th:only-of-type {\n",
       "        vertical-align: middle;\n",
       "    }\n",
       "\n",
       "    .dataframe tbody tr th {\n",
       "        vertical-align: top;\n",
       "    }\n",
       "\n",
       "    .dataframe thead th {\n",
       "        text-align: right;\n",
       "    }\n",
       "</style>\n",
       "<table border=\"1\" class=\"dataframe\">\n",
       "  <thead>\n",
       "    <tr style=\"text-align: right;\">\n",
       "      <th></th>\n",
       "      <th>ts</th>\n",
       "      <th>PID</th>\n",
       "      <th>MINFLT</th>\n",
       "      <th>MAJFLT</th>\n",
       "      <th>VSTEXT</th>\n",
       "      <th>VSIZE</th>\n",
       "      <th>RSIZE</th>\n",
       "      <th>VGROW</th>\n",
       "      <th>RGROW</th>\n",
       "      <th>MEM</th>\n",
       "      <th>CMD</th>\n",
       "      <th>label</th>\n",
       "      <th>type</th>\n",
       "    </tr>\n",
       "  </thead>\n",
       "  <tbody>\n",
       "    <tr>\n",
       "      <td>0</td>\n",
       "      <td>1556129658</td>\n",
       "      <td>1494</td>\n",
       "      <td>0</td>\n",
       "      <td>0.0</td>\n",
       "      <td>2219.0</td>\n",
       "      <td>390.0</td>\n",
       "      <td>82020.0</td>\n",
       "      <td>0.0</td>\n",
       "      <td>0.0</td>\n",
       "      <td>0.02</td>\n",
       "      <td>Xorg</td>\n",
       "      <td>1</td>\n",
       "      <td>dos</td>\n",
       "    </tr>\n",
       "    <tr>\n",
       "      <td>1</td>\n",
       "      <td>1556129738</td>\n",
       "      <td>1641</td>\n",
       "      <td>0</td>\n",
       "      <td>0.0</td>\n",
       "      <td>12.0</td>\n",
       "      <td>9480.0</td>\n",
       "      <td>3496.0</td>\n",
       "      <td>0.0</td>\n",
       "      <td>0.0</td>\n",
       "      <td>0.00</td>\n",
       "      <td>haveged</td>\n",
       "      <td>1</td>\n",
       "      <td>dos</td>\n",
       "    </tr>\n",
       "    <tr>\n",
       "      <td>2</td>\n",
       "      <td>1556129778</td>\n",
       "      <td>6604</td>\n",
       "      <td>0</td>\n",
       "      <td>0.0</td>\n",
       "      <td>0.0</td>\n",
       "      <td>0.0</td>\n",
       "      <td>0.0</td>\n",
       "      <td>0.0</td>\n",
       "      <td>0.0</td>\n",
       "      <td>0.00</td>\n",
       "      <td>kworker/0:1</td>\n",
       "      <td>1</td>\n",
       "      <td>dos</td>\n",
       "    </tr>\n",
       "    <tr>\n",
       "      <td>3</td>\n",
       "      <td>1556129788</td>\n",
       "      <td>51017</td>\n",
       "      <td>0</td>\n",
       "      <td>0.0</td>\n",
       "      <td>0.0</td>\n",
       "      <td>0.0</td>\n",
       "      <td>0.0</td>\n",
       "      <td>0.0</td>\n",
       "      <td>0.0</td>\n",
       "      <td>0.00</td>\n",
       "      <td>&lt;kworker/u256&gt;</td>\n",
       "      <td>1</td>\n",
       "      <td>dos</td>\n",
       "    </tr>\n",
       "    <tr>\n",
       "      <td>4</td>\n",
       "      <td>1556129798</td>\n",
       "      <td>2766</td>\n",
       "      <td>0</td>\n",
       "      <td>0.0</td>\n",
       "      <td>10.0</td>\n",
       "      <td>1.3</td>\n",
       "      <td>68724.0</td>\n",
       "      <td>0.0</td>\n",
       "      <td>0.0</td>\n",
       "      <td>0.02</td>\n",
       "      <td>compiz</td>\n",
       "      <td>1</td>\n",
       "      <td>dos</td>\n",
       "    </tr>\n",
       "  </tbody>\n",
       "</table>\n",
       "</div>"
      ],
      "text/plain": [
       "           ts    PID  MINFLT  MAJFLT  VSTEXT   VSIZE    RSIZE  VGROW  RGROW  \\\n",
       "0  1556129658   1494       0     0.0  2219.0   390.0  82020.0    0.0    0.0   \n",
       "1  1556129738   1641       0     0.0    12.0  9480.0   3496.0    0.0    0.0   \n",
       "2  1556129778   6604       0     0.0     0.0     0.0      0.0    0.0    0.0   \n",
       "3  1556129788  51017       0     0.0     0.0     0.0      0.0    0.0    0.0   \n",
       "4  1556129798   2766       0     0.0    10.0     1.3  68724.0    0.0    0.0   \n",
       "\n",
       "    MEM             CMD  label type  \n",
       "0  0.02            Xorg      1  dos  \n",
       "1  0.00         haveged      1  dos  \n",
       "2  0.00     kworker/0:1      1  dos  \n",
       "3  0.00  <kworker/u256>      1  dos  \n",
       "4  0.02          compiz      1  dos  "
      ]
     },
     "execution_count": 4,
     "metadata": {},
     "output_type": "execute_result"
    }
   ],
   "source": [
    "data.head()\n",
    "# A tabular presentation of a small amount of data"
   ]
  },
  {
   "cell_type": "code",
   "execution_count": 5,
   "metadata": {},
   "outputs": [
    {
     "data": {
      "text/plain": [
       "(140112, 13)"
      ]
     },
     "execution_count": 5,
     "metadata": {},
     "output_type": "execute_result"
    }
   ],
   "source": [
    "# Size of the dataset (rows,colums)\n",
    "data.shape"
   ]
  },
  {
   "cell_type": "code",
   "execution_count": 6,
   "metadata": {
    "scrolled": true
   },
   "outputs": [
    {
     "name": "stdout",
     "output_type": "stream",
     "text": [
      "<class 'pandas.core.frame.DataFrame'>\n",
      "RangeIndex: 140112 entries, 0 to 140111\n",
      "Data columns (total 13 columns):\n",
      "ts        140112 non-null int64\n",
      "PID       140112 non-null int64\n",
      "MINFLT    140112 non-null int64\n",
      "MAJFLT    140112 non-null float64\n",
      "VSTEXT    140112 non-null float64\n",
      "VSIZE     140112 non-null float64\n",
      "RSIZE     140112 non-null float64\n",
      "VGROW     140112 non-null float64\n",
      "RGROW     140112 non-null float64\n",
      "MEM       140112 non-null float64\n",
      "CMD       140112 non-null object\n",
      "label     140112 non-null int64\n",
      "type      140112 non-null object\n",
      "dtypes: float64(7), int64(4), object(2)\n",
      "memory usage: 13.9+ MB\n"
     ]
    }
   ],
   "source": [
    "#data types\n",
    "data.info()"
   ]
  },
  {
   "cell_type": "markdown",
   "metadata": {},
   "source": [
    "There are two object data types and we will need to encode them "
   ]
  },
  {
   "cell_type": "code",
   "execution_count": 7,
   "metadata": {},
   "outputs": [
    {
     "data": {
      "text/html": [
       "<div>\n",
       "<style scoped>\n",
       "    .dataframe tbody tr th:only-of-type {\n",
       "        vertical-align: middle;\n",
       "    }\n",
       "\n",
       "    .dataframe tbody tr th {\n",
       "        vertical-align: top;\n",
       "    }\n",
       "\n",
       "    .dataframe thead th {\n",
       "        text-align: right;\n",
       "    }\n",
       "</style>\n",
       "<table border=\"1\" class=\"dataframe\">\n",
       "  <thead>\n",
       "    <tr style=\"text-align: right;\">\n",
       "      <th></th>\n",
       "      <th>ts</th>\n",
       "      <th>PID</th>\n",
       "      <th>MINFLT</th>\n",
       "      <th>MAJFLT</th>\n",
       "      <th>VSTEXT</th>\n",
       "      <th>VSIZE</th>\n",
       "      <th>RSIZE</th>\n",
       "      <th>VGROW</th>\n",
       "      <th>RGROW</th>\n",
       "      <th>MEM</th>\n",
       "      <th>label</th>\n",
       "    </tr>\n",
       "  </thead>\n",
       "  <tbody>\n",
       "    <tr>\n",
       "      <td>count</td>\n",
       "      <td>1.401120e+05</td>\n",
       "      <td>140112.000000</td>\n",
       "      <td>1.401120e+05</td>\n",
       "      <td>140112.000000</td>\n",
       "      <td>140112.000000</td>\n",
       "      <td>140112.000000</td>\n",
       "      <td>140112.000000</td>\n",
       "      <td>140112.000000</td>\n",
       "      <td>140112.000000</td>\n",
       "      <td>140112.000000</td>\n",
       "      <td>140112.000000</td>\n",
       "    </tr>\n",
       "    <tr>\n",
       "      <td>mean</td>\n",
       "      <td>1.554978e+09</td>\n",
       "      <td>3266.943538</td>\n",
       "      <td>7.734218e+02</td>\n",
       "      <td>6.203922</td>\n",
       "      <td>578.781712</td>\n",
       "      <td>8547.217410</td>\n",
       "      <td>10193.116403</td>\n",
       "      <td>401.780812</td>\n",
       "      <td>142.947496</td>\n",
       "      <td>0.004469</td>\n",
       "      <td>0.286285</td>\n",
       "    </tr>\n",
       "    <tr>\n",
       "      <td>std</td>\n",
       "      <td>8.142325e+05</td>\n",
       "      <td>2119.039113</td>\n",
       "      <td>2.233345e+04</td>\n",
       "      <td>462.086591</td>\n",
       "      <td>1373.721981</td>\n",
       "      <td>11445.859713</td>\n",
       "      <td>17039.081046</td>\n",
       "      <td>4378.613411</td>\n",
       "      <td>1543.199420</td>\n",
       "      <td>0.011588</td>\n",
       "      <td>0.452026</td>\n",
       "    </tr>\n",
       "    <tr>\n",
       "      <td>min</td>\n",
       "      <td>1.554219e+09</td>\n",
       "      <td>1007.000000</td>\n",
       "      <td>0.000000e+00</td>\n",
       "      <td>0.000000</td>\n",
       "      <td>0.000000</td>\n",
       "      <td>0.000000</td>\n",
       "      <td>0.000000</td>\n",
       "      <td>0.000000</td>\n",
       "      <td>0.000000</td>\n",
       "      <td>0.000000</td>\n",
       "      <td>0.000000</td>\n",
       "    </tr>\n",
       "    <tr>\n",
       "      <td>25%</td>\n",
       "      <td>1.554394e+09</td>\n",
       "      <td>2533.000000</td>\n",
       "      <td>0.000000e+00</td>\n",
       "      <td>0.000000</td>\n",
       "      <td>47.000000</td>\n",
       "      <td>114.700000</td>\n",
       "      <td>1588.000000</td>\n",
       "      <td>0.000000</td>\n",
       "      <td>0.000000</td>\n",
       "      <td>0.000000</td>\n",
       "      <td>0.000000</td>\n",
       "    </tr>\n",
       "    <tr>\n",
       "      <td>50%</td>\n",
       "      <td>1.554569e+09</td>\n",
       "      <td>3155.000000</td>\n",
       "      <td>3.000000e+00</td>\n",
       "      <td>0.000000</td>\n",
       "      <td>148.000000</td>\n",
       "      <td>710.100000</td>\n",
       "      <td>2604.000000</td>\n",
       "      <td>0.000000</td>\n",
       "      <td>0.000000</td>\n",
       "      <td>0.000000</td>\n",
       "      <td>0.000000</td>\n",
       "    </tr>\n",
       "    <tr>\n",
       "      <td>75%</td>\n",
       "      <td>1.556208e+09</td>\n",
       "      <td>3895.000000</td>\n",
       "      <td>1.960000e+03</td>\n",
       "      <td>0.000000</td>\n",
       "      <td>589.000000</td>\n",
       "      <td>17948.000000</td>\n",
       "      <td>11064.000000</td>\n",
       "      <td>0.000000</td>\n",
       "      <td>0.000000</td>\n",
       "      <td>0.000000</td>\n",
       "      <td>1.000000</td>\n",
       "    </tr>\n",
       "    <tr>\n",
       "      <td>max</td>\n",
       "      <td>1.556549e+09</td>\n",
       "      <td>53096.000000</td>\n",
       "      <td>8.050000e+06</td>\n",
       "      <td>107776.000000</td>\n",
       "      <td>50652.000000</td>\n",
       "      <td>78328.000000</td>\n",
       "      <td>99496.000000</td>\n",
       "      <td>99268.000000</td>\n",
       "      <td>98920.000000</td>\n",
       "      <td>0.160000</td>\n",
       "      <td>1.000000</td>\n",
       "    </tr>\n",
       "  </tbody>\n",
       "</table>\n",
       "</div>"
      ],
      "text/plain": [
       "                 ts            PID        MINFLT         MAJFLT  \\\n",
       "count  1.401120e+05  140112.000000  1.401120e+05  140112.000000   \n",
       "mean   1.554978e+09    3266.943538  7.734218e+02       6.203922   \n",
       "std    8.142325e+05    2119.039113  2.233345e+04     462.086591   \n",
       "min    1.554219e+09    1007.000000  0.000000e+00       0.000000   \n",
       "25%    1.554394e+09    2533.000000  0.000000e+00       0.000000   \n",
       "50%    1.554569e+09    3155.000000  3.000000e+00       0.000000   \n",
       "75%    1.556208e+09    3895.000000  1.960000e+03       0.000000   \n",
       "max    1.556549e+09   53096.000000  8.050000e+06  107776.000000   \n",
       "\n",
       "              VSTEXT          VSIZE          RSIZE          VGROW  \\\n",
       "count  140112.000000  140112.000000  140112.000000  140112.000000   \n",
       "mean      578.781712    8547.217410   10193.116403     401.780812   \n",
       "std      1373.721981   11445.859713   17039.081046    4378.613411   \n",
       "min         0.000000       0.000000       0.000000       0.000000   \n",
       "25%        47.000000     114.700000    1588.000000       0.000000   \n",
       "50%       148.000000     710.100000    2604.000000       0.000000   \n",
       "75%       589.000000   17948.000000   11064.000000       0.000000   \n",
       "max     50652.000000   78328.000000   99496.000000   99268.000000   \n",
       "\n",
       "               RGROW            MEM          label  \n",
       "count  140112.000000  140112.000000  140112.000000  \n",
       "mean      142.947496       0.004469       0.286285  \n",
       "std      1543.199420       0.011588       0.452026  \n",
       "min         0.000000       0.000000       0.000000  \n",
       "25%         0.000000       0.000000       0.000000  \n",
       "50%         0.000000       0.000000       0.000000  \n",
       "75%         0.000000       0.000000       1.000000  \n",
       "max     98920.000000       0.160000       1.000000  "
      ]
     },
     "execution_count": 7,
     "metadata": {},
     "output_type": "execute_result"
    }
   ],
   "source": [
    "#numerical summary of the numerical(int , float colums)\n",
    "data.describe()"
   ]
  },
  {
   "cell_type": "code",
   "execution_count": 8,
   "metadata": {},
   "outputs": [
    {
     "data": {
      "text/plain": [
       "ts        0\n",
       "PID       0\n",
       "MINFLT    0\n",
       "MAJFLT    0\n",
       "VSTEXT    0\n",
       "VSIZE     0\n",
       "RSIZE     0\n",
       "VGROW     0\n",
       "RGROW     0\n",
       "MEM       0\n",
       "CMD       0\n",
       "label     0\n",
       "type      0\n",
       "dtype: int64"
      ]
     },
     "execution_count": 8,
     "metadata": {},
     "output_type": "execute_result"
    }
   ],
   "source": [
    "data.isnull().sum()"
   ]
  },
  {
   "cell_type": "markdown",
   "metadata": {},
   "source": [
    "<div style=\"background-color:rgb(255, 233, 173)\"> There are no null values in the dataset </div>"
   ]
  },
  {
   "cell_type": "code",
   "execution_count": 9,
   "metadata": {},
   "outputs": [
    {
     "data": {
      "text/plain": [
       "atop              37995\n",
       "vmtoolsd           8028\n",
       "compiz             5279\n",
       "ostinato           5254\n",
       "irqbalance         5241\n",
       "                  ...  \n",
       "<squirrelmail>        1\n",
       "<apt-get>             1\n",
       "<gedit>               1\n",
       "dumpcap               1\n",
       "<apt-ey>              1\n",
       "Name: CMD, Length: 342, dtype: int64"
      ]
     },
     "execution_count": 9,
     "metadata": {},
     "output_type": "execute_result"
    }
   ],
   "source": [
    "data['CMD'].value_counts()"
   ]
  },
  {
   "cell_type": "markdown",
   "metadata": {},
   "source": [
    "#### <font color=\"blue\"> Tried to see the unique values of the \"CMD\" column so that could go for better encoding option but found out that it has many values . So we need to go for Label Encoding."
   ]
  },
  {
   "cell_type": "code",
   "execution_count": 10,
   "metadata": {},
   "outputs": [
    {
     "data": {
      "text/plain": [
       "0    100000\n",
       "1     40112\n",
       "Name: label, dtype: int64"
      ]
     },
     "execution_count": 10,
     "metadata": {},
     "output_type": "execute_result"
    }
   ],
   "source": [
    "data['label'].value_counts()"
   ]
  },
  {
   "cell_type": "code",
   "execution_count": 11,
   "metadata": {},
   "outputs": [
    {
     "data": {
      "text/plain": [
       "normal       100000\n",
       "ddos          10000\n",
       "password      10000\n",
       "injection     10000\n",
       "dos           10000\n",
       "mitm            112\n",
       "Name: type, dtype: int64"
      ]
     },
     "execution_count": 11,
     "metadata": {},
     "output_type": "execute_result"
    }
   ],
   "source": [
    "data['type'].value_counts()"
   ]
  },
  {
   "cell_type": "markdown",
   "metadata": {},
   "source": [
    "### EDA"
   ]
  },
  {
   "cell_type": "code",
   "execution_count": 12,
   "metadata": {},
   "outputs": [
    {
     "name": "stdout",
     "output_type": "stream",
     "text": [
      "['dos' 'normal' 'ddos' 'injection' 'mitm' 'password']\n",
      "normal       100000\n",
      "ddos          10000\n",
      "password      10000\n",
      "injection     10000\n",
      "dos           10000\n",
      "mitm            112\n",
      "Name: type, dtype: int64\n"
     ]
    },
    {
     "data": {
      "image/png": "[encoded data removed]",
      "text/plain": [
       "<Figure size 432x288 with 1 Axes>"
      ]
     },
     "metadata": {},
     "output_type": "display_data"
    }
   ],
   "source": [
    "print(data['type'].unique())\n",
    "print(data['type'].value_counts())\n",
    "labels=['normal','ddos','injection','dos','password','mitm']\n",
    "sizes = [data['type'].value_counts()];\n",
    "explode = (0.1, 0.1, 0.1,0.1,0.1,0.1)\n",
    "colors = ['#ffb387','#66b3ff','#99ff99','#fdff87','#9f87ff','#87fffd']\n",
    "fig1, ax1 = plt.subplots()\n",
    "ax1.pie(sizes, explode=explode, labels=labels, colors=colors, autopct='%0.1f%%',\n",
    "        shadow=True, startangle=90)\n",
    "ax1.axis('equal')\n",
    "plt.tight_layout()\n",
    "plt.show()"
   ]
  },
  {
   "cell_type": "code",
   "execution_count": 13,
   "metadata": {},
   "outputs": [
    {
     "data": {
      "text/plain": [
       "<matplotlib.axes._subplots.AxesSubplot at 0x16f357cdc08>"
      ]
     },
     "execution_count": 13,
     "metadata": {},
     "output_type": "execute_result"
    },
    {
     "data": {
      "image/png": "[encoded data removed]",
      "text/plain": [
       "<Figure size 720x360 with 1 Axes>"
      ]
     },
     "metadata": {},
     "output_type": "display_data"
    }
   ],
   "source": [
    "plt.style.use('dark_background')\n",
    "plt.style.use('seaborn-pastel')\n",
    "plt.figure(figsize=(10,5))\n",
    "sns.countplot(x=\"type\",hue = \"label\", data= data)"
   ]
  },
  {
   "cell_type": "code",
   "execution_count": null,
   "metadata": {},
   "outputs": [],
   "source": []
  },
  {
   "cell_type": "markdown",
   "metadata": {},
   "source": [
    "### ENCODING THE CATEGORICAL FEATURES"
   ]
  },
  {
   "cell_type": "code",
   "execution_count": 14,
   "metadata": {},
   "outputs": [],
   "source": [
    "# Label Encoding\n",
    "#This gives a seperate unique numerical value to each unique value in the object data\n",
    "from sklearn.preprocessing import LabelEncoder\n",
    "LE = LabelEncoder()\n",
    "\n",
    "# We only have 2 columns whose data type is not float or int\n",
    "# CMD and type\n",
    "data[\"CMD_Enc\"]=LE.fit_transform(data.CMD)\n",
    "data[\"type_Enc\"]=LE.fit_transform(data.type)\n",
    "data.drop(['CMD','type'],axis=1,inplace=True)"
   ]
  },
  {
   "cell_type": "code",
   "execution_count": 15,
   "metadata": {},
   "outputs": [
    {
     "data": {
      "text/html": [
       "<div>\n",
       "<style scoped>\n",
       "    .dataframe tbody tr th:only-of-type {\n",
       "        vertical-align: middle;\n",
       "    }\n",
       "\n",
       "    .dataframe tbody tr th {\n",
       "        vertical-align: top;\n",
       "    }\n",
       "\n",
       "    .dataframe thead th {\n",
       "        text-align: right;\n",
       "    }\n",
       "</style>\n",
       "<table border=\"1\" class=\"dataframe\">\n",
       "  <thead>\n",
       "    <tr style=\"text-align: right;\">\n",
       "      <th></th>\n",
       "      <th>ts</th>\n",
       "      <th>PID</th>\n",
       "      <th>MINFLT</th>\n",
       "      <th>MAJFLT</th>\n",
       "      <th>VSTEXT</th>\n",
       "      <th>VSIZE</th>\n",
       "      <th>RSIZE</th>\n",
       "      <th>VGROW</th>\n",
       "      <th>RGROW</th>\n",
       "      <th>MEM</th>\n",
       "      <th>label</th>\n",
       "      <th>CMD_Enc</th>\n",
       "      <th>type_Enc</th>\n",
       "    </tr>\n",
       "  </thead>\n",
       "  <tbody>\n",
       "    <tr>\n",
       "      <td>0</td>\n",
       "      <td>1556129658</td>\n",
       "      <td>1494</td>\n",
       "      <td>0</td>\n",
       "      <td>0.0</td>\n",
       "      <td>2219.0</td>\n",
       "      <td>390.0</td>\n",
       "      <td>82020.0</td>\n",
       "      <td>0.0</td>\n",
       "      <td>0.0</td>\n",
       "      <td>0.02</td>\n",
       "      <td>1</td>\n",
       "      <td>139</td>\n",
       "      <td>1</td>\n",
       "    </tr>\n",
       "    <tr>\n",
       "      <td>1</td>\n",
       "      <td>1556129738</td>\n",
       "      <td>1641</td>\n",
       "      <td>0</td>\n",
       "      <td>0.0</td>\n",
       "      <td>12.0</td>\n",
       "      <td>9480.0</td>\n",
       "      <td>3496.0</td>\n",
       "      <td>0.0</td>\n",
       "      <td>0.0</td>\n",
       "      <td>0.00</td>\n",
       "      <td>1</td>\n",
       "      <td>225</td>\n",
       "      <td>1</td>\n",
       "    </tr>\n",
       "    <tr>\n",
       "      <td>2</td>\n",
       "      <td>1556129778</td>\n",
       "      <td>6604</td>\n",
       "      <td>0</td>\n",
       "      <td>0.0</td>\n",
       "      <td>0.0</td>\n",
       "      <td>0.0</td>\n",
       "      <td>0.0</td>\n",
       "      <td>0.0</td>\n",
       "      <td>0.0</td>\n",
       "      <td>0.00</td>\n",
       "      <td>1</td>\n",
       "      <td>253</td>\n",
       "      <td>1</td>\n",
       "    </tr>\n",
       "    <tr>\n",
       "      <td>3</td>\n",
       "      <td>1556129788</td>\n",
       "      <td>51017</td>\n",
       "      <td>0</td>\n",
       "      <td>0.0</td>\n",
       "      <td>0.0</td>\n",
       "      <td>0.0</td>\n",
       "      <td>0.0</td>\n",
       "      <td>0.0</td>\n",
       "      <td>0.0</td>\n",
       "      <td>0.00</td>\n",
       "      <td>1</td>\n",
       "      <td>71</td>\n",
       "      <td>1</td>\n",
       "    </tr>\n",
       "    <tr>\n",
       "      <td>4</td>\n",
       "      <td>1556129798</td>\n",
       "      <td>2766</td>\n",
       "      <td>0</td>\n",
       "      <td>0.0</td>\n",
       "      <td>10.0</td>\n",
       "      <td>1.3</td>\n",
       "      <td>68724.0</td>\n",
       "      <td>0.0</td>\n",
       "      <td>0.0</td>\n",
       "      <td>0.02</td>\n",
       "      <td>1</td>\n",
       "      <td>163</td>\n",
       "      <td>1</td>\n",
       "    </tr>\n",
       "  </tbody>\n",
       "</table>\n",
       "</div>"
      ],
      "text/plain": [
       "           ts    PID  MINFLT  MAJFLT  VSTEXT   VSIZE    RSIZE  VGROW  RGROW  \\\n",
       "0  1556129658   1494       0     0.0  2219.0   390.0  82020.0    0.0    0.0   \n",
       "1  1556129738   1641       0     0.0    12.0  9480.0   3496.0    0.0    0.0   \n",
       "2  1556129778   6604       0     0.0     0.0     0.0      0.0    0.0    0.0   \n",
       "3  1556129788  51017       0     0.0     0.0     0.0      0.0    0.0    0.0   \n",
       "4  1556129798   2766       0     0.0    10.0     1.3  68724.0    0.0    0.0   \n",
       "\n",
       "    MEM  label  CMD_Enc  type_Enc  \n",
       "0  0.02      1      139         1  \n",
       "1  0.00      1      225         1  \n",
       "2  0.00      1      253         1  \n",
       "3  0.00      1       71         1  \n",
       "4  0.02      1      163         1  "
      ]
     },
     "execution_count": 15,
     "metadata": {},
     "output_type": "execute_result"
    }
   ],
   "source": [
    "data.head()"
   ]
  },
  {
   "cell_type": "code",
   "execution_count": 16,
   "metadata": {},
   "outputs": [
    {
     "data": {
      "text/plain": [
       "4    100000\n",
       "5     10000\n",
       "2     10000\n",
       "1     10000\n",
       "0     10000\n",
       "3       112\n",
       "Name: type_Enc, dtype: int64"
      ]
     },
     "execution_count": 16,
     "metadata": {},
     "output_type": "execute_result"
    }
   ],
   "source": [
    "data[\"type_Enc\"].value_counts()"
   ]
  },
  {
   "cell_type": "code",
   "execution_count": 17,
   "metadata": {},
   "outputs": [
    {
     "data": {
      "text/plain": [
       "<matplotlib.axes._subplots.AxesSubplot at 0x16f35e6d508>"
      ]
     },
     "execution_count": 17,
     "metadata": {},
     "output_type": "execute_result"
    },
    {
     "data": {
      "image/png": "[encoded data removed]",
      "text/plain": [
       "<Figure size 1224x576 with 2 Axes>"
      ]
     },
     "metadata": {},
     "output_type": "display_data"
    }
   ],
   "source": [
    "plt.figure(figsize=(17,8))\n",
    "sns.heatmap(data.corr().apply(abs),cmap='gnuplot')"
   ]
  },
  {
   "cell_type": "code",
   "execution_count": null,
   "metadata": {},
   "outputs": [],
   "source": []
  },
  {
   "cell_type": "code",
   "execution_count": 18,
   "metadata": {},
   "outputs": [],
   "source": [
    "y=data['type_Enc']"
   ]
  },
  {
   "cell_type": "code",
   "execution_count": 19,
   "metadata": {},
   "outputs": [],
   "source": [
    "x=data.drop(['type_Enc'], axis=1)"
   ]
  },
  {
   "cell_type": "markdown",
   "metadata": {},
   "source": [
    "## SCALING "
   ]
  },
  {
   "cell_type": "code",
   "execution_count": 20,
   "metadata": {
    "scrolled": true
   },
   "outputs": [],
   "source": [
    "# STANDARD SCALER\n",
    "\n",
    "from sklearn.preprocessing import StandardScaler\n",
    "scaler = StandardScaler()\n",
    "\n",
    "# extract numerical attributes and scale it to have zero mean and unit variance  \n",
    "data_name=data.iloc[:,:-1]\n",
    "cols = data_name.columns\n",
    "sc_data = scaler.fit_transform(x)\n",
    "# turn the result back to a dataframe\n",
    "data = pd.DataFrame(sc_data, columns = cols)"
   ]
  },
  {
   "cell_type": "code",
   "execution_count": 21,
   "metadata": {},
   "outputs": [],
   "source": [
    "# MIN MAX SCALER\n",
    "\n",
    "# mm_scaler = sklearn.preprocessing.MinMaxScaler()\n",
    "# data_name=data.iloc[:,:-1]\n",
    "# cols = data_name.columns\n",
    "# sc_data = mm_scaler.fit_transform(x)\n",
    "# # turn the result back to a dataframe\n",
    "# data = pd.DataFrame(sc_data, columns = cols)"
   ]
  },
  {
   "cell_type": "code",
   "execution_count": 22,
   "metadata": {},
   "outputs": [
    {
     "data": {
      "text/html": [
       "<div>\n",
       "<style scoped>\n",
       "    .dataframe tbody tr th:only-of-type {\n",
       "        vertical-align: middle;\n",
       "    }\n",
       "\n",
       "    .dataframe tbody tr th {\n",
       "        vertical-align: top;\n",
       "    }\n",
       "\n",
       "    .dataframe thead th {\n",
       "        text-align: right;\n",
       "    }\n",
       "</style>\n",
       "<table border=\"1\" class=\"dataframe\">\n",
       "  <thead>\n",
       "    <tr style=\"text-align: right;\">\n",
       "      <th></th>\n",
       "      <th>ts</th>\n",
       "      <th>PID</th>\n",
       "      <th>MINFLT</th>\n",
       "      <th>MAJFLT</th>\n",
       "      <th>VSTEXT</th>\n",
       "      <th>VSIZE</th>\n",
       "      <th>RSIZE</th>\n",
       "      <th>VGROW</th>\n",
       "      <th>RGROW</th>\n",
       "      <th>MEM</th>\n",
       "      <th>label</th>\n",
       "      <th>CMD_Enc</th>\n",
       "    </tr>\n",
       "  </thead>\n",
       "  <tbody>\n",
       "    <tr>\n",
       "      <td>0</td>\n",
       "      <td>1.413833</td>\n",
       "      <td>-0.836676</td>\n",
       "      <td>-0.034631</td>\n",
       "      <td>-0.013426</td>\n",
       "      <td>1.194000</td>\n",
       "      <td>-0.712681</td>\n",
       "      <td>4.215435</td>\n",
       "      <td>-0.091760</td>\n",
       "      <td>-0.092631</td>\n",
       "      <td>1.340342</td>\n",
       "      <td>1.57893</td>\n",
       "      <td>-1.057100</td>\n",
       "    </tr>\n",
       "    <tr>\n",
       "      <td>1</td>\n",
       "      <td>1.413932</td>\n",
       "      <td>-0.767305</td>\n",
       "      <td>-0.034631</td>\n",
       "      <td>-0.013426</td>\n",
       "      <td>-0.412590</td>\n",
       "      <td>0.081495</td>\n",
       "      <td>-0.393046</td>\n",
       "      <td>-0.091760</td>\n",
       "      <td>-0.092631</td>\n",
       "      <td>-0.385655</td>\n",
       "      <td>1.57893</td>\n",
       "      <td>0.132321</td>\n",
       "    </tr>\n",
       "    <tr>\n",
       "      <td>2</td>\n",
       "      <td>1.413981</td>\n",
       "      <td>1.574803</td>\n",
       "      <td>-0.034631</td>\n",
       "      <td>-0.013426</td>\n",
       "      <td>-0.421325</td>\n",
       "      <td>-0.746755</td>\n",
       "      <td>-0.598222</td>\n",
       "      <td>-0.091760</td>\n",
       "      <td>-0.092631</td>\n",
       "      <td>-0.385655</td>\n",
       "      <td>1.57893</td>\n",
       "      <td>0.519574</td>\n",
       "    </tr>\n",
       "    <tr>\n",
       "      <td>3</td>\n",
       "      <td>1.413993</td>\n",
       "      <td>22.533905</td>\n",
       "      <td>-0.034631</td>\n",
       "      <td>-0.013426</td>\n",
       "      <td>-0.421325</td>\n",
       "      <td>-0.746755</td>\n",
       "      <td>-0.598222</td>\n",
       "      <td>-0.091760</td>\n",
       "      <td>-0.092631</td>\n",
       "      <td>-0.385655</td>\n",
       "      <td>1.57893</td>\n",
       "      <td>-1.997572</td>\n",
       "    </tr>\n",
       "    <tr>\n",
       "      <td>4</td>\n",
       "      <td>1.414005</td>\n",
       "      <td>-0.236402</td>\n",
       "      <td>-0.034631</td>\n",
       "      <td>-0.013426</td>\n",
       "      <td>-0.414046</td>\n",
       "      <td>-0.746641</td>\n",
       "      <td>3.435109</td>\n",
       "      <td>-0.091760</td>\n",
       "      <td>-0.092631</td>\n",
       "      <td>1.340342</td>\n",
       "      <td>1.57893</td>\n",
       "      <td>-0.725168</td>\n",
       "    </tr>\n",
       "    <tr>\n",
       "      <td>...</td>\n",
       "      <td>...</td>\n",
       "      <td>...</td>\n",
       "      <td>...</td>\n",
       "      <td>...</td>\n",
       "      <td>...</td>\n",
       "      <td>...</td>\n",
       "      <td>...</td>\n",
       "      <td>...</td>\n",
       "      <td>...</td>\n",
       "      <td>...</td>\n",
       "      <td>...</td>\n",
       "      <td>...</td>\n",
       "    </tr>\n",
       "    <tr>\n",
       "      <td>140107</td>\n",
       "      <td>-0.886363</td>\n",
       "      <td>0.521963</td>\n",
       "      <td>0.058324</td>\n",
       "      <td>-0.013426</td>\n",
       "      <td>-0.313588</td>\n",
       "      <td>0.795119</td>\n",
       "      <td>-0.456899</td>\n",
       "      <td>-0.091760</td>\n",
       "      <td>-0.092631</td>\n",
       "      <td>-0.385655</td>\n",
       "      <td>-0.63334</td>\n",
       "      <td>-0.863473</td>\n",
       "    </tr>\n",
       "    <tr>\n",
       "      <td>140108</td>\n",
       "      <td>-0.886357</td>\n",
       "      <td>-0.668203</td>\n",
       "      <td>-0.034631</td>\n",
       "      <td>-0.013426</td>\n",
       "      <td>-0.395119</td>\n",
       "      <td>-0.732793</td>\n",
       "      <td>-0.480844</td>\n",
       "      <td>-0.091760</td>\n",
       "      <td>-0.092631</td>\n",
       "      <td>-0.385655</td>\n",
       "      <td>-0.63334</td>\n",
       "      <td>1.556860</td>\n",
       "    </tr>\n",
       "    <tr>\n",
       "      <td>140109</td>\n",
       "      <td>-0.886351</td>\n",
       "      <td>-0.894722</td>\n",
       "      <td>-0.034407</td>\n",
       "      <td>-0.013426</td>\n",
       "      <td>-0.395119</td>\n",
       "      <td>0.939101</td>\n",
       "      <td>-0.560661</td>\n",
       "      <td>-0.091760</td>\n",
       "      <td>-0.092631</td>\n",
       "      <td>-0.385655</td>\n",
       "      <td>-0.63334</td>\n",
       "      <td>0.422761</td>\n",
       "    </tr>\n",
       "    <tr>\n",
       "      <td>140110</td>\n",
       "      <td>-0.886345</td>\n",
       "      <td>-0.754563</td>\n",
       "      <td>-0.034631</td>\n",
       "      <td>-0.013426</td>\n",
       "      <td>-0.412590</td>\n",
       "      <td>0.081495</td>\n",
       "      <td>-0.581085</td>\n",
       "      <td>-0.091760</td>\n",
       "      <td>-0.092631</td>\n",
       "      <td>-0.385655</td>\n",
       "      <td>-0.63334</td>\n",
       "      <td>0.132321</td>\n",
       "    </tr>\n",
       "    <tr>\n",
       "      <td>140111</td>\n",
       "      <td>-0.886339</td>\n",
       "      <td>-0.861216</td>\n",
       "      <td>0.050533</td>\n",
       "      <td>0.034184</td>\n",
       "      <td>1.194000</td>\n",
       "      <td>-0.675882</td>\n",
       "      <td>-0.583215</td>\n",
       "      <td>2.594945</td>\n",
       "      <td>10.104403</td>\n",
       "      <td>5.655337</td>\n",
       "      <td>-0.63334</td>\n",
       "      <td>-1.057100</td>\n",
       "    </tr>\n",
       "  </tbody>\n",
       "</table>\n",
       "<p>140112 rows × 12 columns</p>\n",
       "</div>"
      ],
      "text/plain": [
       "              ts        PID    MINFLT    MAJFLT    VSTEXT     VSIZE     RSIZE  \\\n",
       "0       1.413833  -0.836676 -0.034631 -0.013426  1.194000 -0.712681  4.215435   \n",
       "1       1.413932  -0.767305 -0.034631 -0.013426 -0.412590  0.081495 -0.393046   \n",
       "2       1.413981   1.574803 -0.034631 -0.013426 -0.421325 -0.746755 -0.598222   \n",
       "3       1.413993  22.533905 -0.034631 -0.013426 -0.421325 -0.746755 -0.598222   \n",
       "4       1.414005  -0.236402 -0.034631 -0.013426 -0.414046 -0.746641  3.435109   \n",
       "...          ...        ...       ...       ...       ...       ...       ...   \n",
       "140107 -0.886363   0.521963  0.058324 -0.013426 -0.313588  0.795119 -0.456899   \n",
       "140108 -0.886357  -0.668203 -0.034631 -0.013426 -0.395119 -0.732793 -0.480844   \n",
       "140109 -0.886351  -0.894722 -0.034407 -0.013426 -0.395119  0.939101 -0.560661   \n",
       "140110 -0.886345  -0.754563 -0.034631 -0.013426 -0.412590  0.081495 -0.581085   \n",
       "140111 -0.886339  -0.861216  0.050533  0.034184  1.194000 -0.675882 -0.583215   \n",
       "\n",
       "           VGROW      RGROW       MEM    label   CMD_Enc  \n",
       "0      -0.091760  -0.092631  1.340342  1.57893 -1.057100  \n",
       "1      -0.091760  -0.092631 -0.385655  1.57893  0.132321  \n",
       "2      -0.091760  -0.092631 -0.385655  1.57893  0.519574  \n",
       "3      -0.091760  -0.092631 -0.385655  1.57893 -1.997572  \n",
       "4      -0.091760  -0.092631  1.340342  1.57893 -0.725168  \n",
       "...          ...        ...       ...      ...       ...  \n",
       "140107 -0.091760  -0.092631 -0.385655 -0.63334 -0.863473  \n",
       "140108 -0.091760  -0.092631 -0.385655 -0.63334  1.556860  \n",
       "140109 -0.091760  -0.092631 -0.385655 -0.63334  0.422761  \n",
       "140110 -0.091760  -0.092631 -0.385655 -0.63334  0.132321  \n",
       "140111  2.594945  10.104403  5.655337 -0.63334 -1.057100  \n",
       "\n",
       "[140112 rows x 12 columns]"
      ]
     },
     "execution_count": 22,
     "metadata": {},
     "output_type": "execute_result"
    }
   ],
   "source": [
    "data"
   ]
  },
  {
   "cell_type": "code",
   "execution_count": null,
   "metadata": {},
   "outputs": [],
   "source": []
  },
  {
   "cell_type": "markdown",
   "metadata": {},
   "source": [
    "### SAMPLING"
   ]
  },
  {
   "cell_type": "code",
   "execution_count": 23,
   "metadata": {},
   "outputs": [
    {
     "data": {
      "text/plain": [
       "4    100000\n",
       "5     10000\n",
       "2     10000\n",
       "1     10000\n",
       "0     10000\n",
       "3       112\n",
       "Name: type_Enc, dtype: int64"
      ]
     },
     "execution_count": 23,
     "metadata": {},
     "output_type": "execute_result"
    }
   ],
   "source": [
    "y.value_counts()"
   ]
  },
  {
   "cell_type": "code",
   "execution_count": 24,
   "metadata": {},
   "outputs": [],
   "source": [
    "import imblearn\n",
    "# from imblearn.under_sampling import RandomUnderSampler\n",
    "from imblearn.over_sampling import RandomOverSampler\n",
    "\n",
    "s_strategy = {0: 10000, 1: 10000, 2:10000, 3:10000, 4:100000, 5:10000}\n",
    "\n",
    "# ru = RandomUnderSampler()\n",
    "ro=RandomOverSampler(sampling_strategy=s_strategy,random_state=1)\n",
    "# Xres, yres = ru.fit_sample(data,y)\n",
    "\n",
    "Xro,yro=ro.fit_resample(data,y)\n",
    "\n",
    "# oversample = RandomOverSampler(sampling_strategy=0.75) #75% oversampling\n",
    "# X_res, y_res= oversample.fit_resample(X_train,y_train)"
   ]
  },
  {
   "cell_type": "code",
   "execution_count": 25,
   "metadata": {},
   "outputs": [
    {
     "data": {
      "text/plain": [
       "4    100000\n",
       "5     10000\n",
       "3     10000\n",
       "2     10000\n",
       "1     10000\n",
       "0     10000\n",
       "Name: type_Enc, dtype: int64"
      ]
     },
     "execution_count": 25,
     "metadata": {},
     "output_type": "execute_result"
    }
   ],
   "source": [
    "yro.value_counts()"
   ]
  },
  {
   "cell_type": "code",
   "execution_count": 26,
   "metadata": {},
   "outputs": [],
   "source": [
    "from imblearn.under_sampling import RandomUnderSampler\n",
    "\n",
    "s_strategy = {0: 10000, 1: 10000, 2:10000,3:10000,4:10000,5:10000}\n",
    "ru = RandomUnderSampler(sampling_strategy=s_strategy,random_state=1)\n",
    "\n",
    "\n",
    "Xres1,yres1=ru.fit_resample(Xro,yro)"
   ]
  },
  {
   "cell_type": "code",
   "execution_count": 27,
   "metadata": {},
   "outputs": [
    {
     "data": {
      "text/plain": [
       "5    10000\n",
       "4    10000\n",
       "3    10000\n",
       "2    10000\n",
       "1    10000\n",
       "0    10000\n",
       "Name: type_Enc, dtype: int64"
      ]
     },
     "execution_count": 27,
     "metadata": {},
     "output_type": "execute_result"
    }
   ],
   "source": [
    "yres1.value_counts()"
   ]
  },
  {
   "cell_type": "code",
   "execution_count": 28,
   "metadata": {},
   "outputs": [],
   "source": [
    "from sklearn import model_selection\n",
    "from sklearn.model_selection import StratifiedKFold,KFold,RepeatedStratifiedKFold,cross_val_score\n",
    "from numpy import mean"
   ]
  },
  {
   "cell_type": "markdown",
   "metadata": {},
   "source": [
    "### TRAIN TEST SPLIT"
   ]
  },
  {
   "cell_type": "code",
   "execution_count": 29,
   "metadata": {},
   "outputs": [],
   "source": [
    "X_train, X_test, y_train, y_test = model_selection.train_test_split(Xres1,yres1, test_size=0.25, random_state=42, stratify=yres1)"
   ]
  },
  {
   "cell_type": "markdown",
   "metadata": {},
   "source": [
    "### <div style=\"background-color: rgb(135, 209, 255);\">  MODEL -ADABOOST </div>"
   ]
  },
  {
   "cell_type": "code",
   "execution_count": 30,
   "metadata": {},
   "outputs": [],
   "source": [
    "from sklearn.ensemble import AdaBoostClassifier\n",
    "model = AdaBoostClassifier(random_state=42)"
   ]
  },
  {
   "cell_type": "code",
   "execution_count": 32,
   "metadata": {},
   "outputs": [
    {
     "name": "stdout",
     "output_type": "stream",
     "text": [
      "0.5\n"
     ]
    },
    {
     "data": {
      "text/plain": [
       "2.561669199996686"
      ]
     },
     "execution_count": 32,
     "metadata": {},
     "output_type": "execute_result"
    }
   ],
   "source": [
    "import time \n",
    "time_start=time.clock()\n",
    "model.fit(X_train, y_train)\n",
    "print(model.score(X_test,y_test))\n",
    "\n",
    "time_elapsed=(time.clock()-time_start)\n",
    "time_elapsed"
   ]
  },
  {
   "cell_type": "code",
   "execution_count": null,
   "metadata": {},
   "outputs": [],
   "source": []
  },
  {
   "cell_type": "code",
   "execution_count": 31,
   "metadata": {},
   "outputs": [],
   "source": [
    "from sklearn.metrics import classification_report,confusion_matrix\n",
    "from sklearn import metrics\n",
    "from sklearn.metrics import accuracy_score, f1_score, auc, roc_curve, roc_auc_score"
   ]
  },
  {
   "cell_type": "code",
   "execution_count": 32,
   "metadata": {},
   "outputs": [],
   "source": [
    "pred1=model.predict(X_test)"
   ]
  },
  {
   "cell_type": "code",
   "execution_count": 33,
   "metadata": {},
   "outputs": [
    {
     "data": {
      "text/plain": [
       "array([[   0,    0,    0,    0,    0, 2500],\n",
       "       [   0,    0,    0,    0,    0, 2500],\n",
       "       [   0,    0,    0,    0,    0, 2500],\n",
       "       [   0,    0,    0, 2500,    0,    0],\n",
       "       [   0,    0,    0,    0, 2500,    0],\n",
       "       [   0,    0,    0,    0,    0, 2500]], dtype=int64)"
      ]
     },
     "execution_count": 33,
     "metadata": {},
     "output_type": "execute_result"
    }
   ],
   "source": [
    "# The major diagonal represents the true values\n",
    "confusion_matrix(y_test,pred1)"
   ]
  },
  {
   "cell_type": "code",
   "execution_count": 34,
   "metadata": {},
   "outputs": [
    {
     "name": "stdout",
     "output_type": "stream",
     "text": [
      "              precision  recall  f1-score  support\n",
      "macro avg         0.375     0.5       0.4  15000.0\n",
      "weighted avg      0.375     0.5       0.4  15000.0\n",
      "0                 0.000     0.0       0.0   2500.0\n",
      "1                 0.000     0.0       0.0   2500.0\n",
      "2                 0.000     0.0       0.0   2500.0\n",
      "3                 1.000     1.0       1.0   2500.0\n",
      "4                 1.000     1.0       1.0   2500.0\n",
      "5                 0.250     1.0       0.4   2500.0\n",
      "accuracy          0.500     0.5       0.5      0.5\n"
     ]
    }
   ],
   "source": [
    "def get_classification_report(y_test, pred1): \n",
    "    report = metrics.classification_report(y_test, pred1, output_dict=True)\n",
    "    df_classification_report = pd.DataFrame(report).transpose()\n",
    "    df_classification_report = df_classification_report.sort_values(by=['support'], ascending=False)\n",
    "    \n",
    "    return df_classification_report\n",
    "\n",
    "C_R = get_classification_report(y_test, pred1)\n",
    "print(C_R)"
   ]
  },
  {
   "cell_type": "code",
   "execution_count": null,
   "metadata": {},
   "outputs": [],
   "source": []
  },
  {
   "cell_type": "markdown",
   "metadata": {},
   "source": [
    "### K FOLD CROSS VALIDATION"
   ]
  },
  {
   "cell_type": "markdown",
   "metadata": {},
   "source": [
    "- ### KFold\n",
    "- ### Stratified KFold\n",
    "- ### Repeated Stratified Kfold"
   ]
  },
  {
   "cell_type": "code",
   "execution_count": 35,
   "metadata": {},
   "outputs": [],
   "source": [
    "model= AdaBoostClassifier(random_state=42)\n",
    "\n",
    "def evaluate_model(model):\n",
    "    \n",
    "    KF=KFold(n_splits=10)\n",
    "    score1 = cross_val_score(model, X_train, y_train, scoring='accuracy', cv=KF)\n",
    "    \n",
    "    SKF= StratifiedKFold(n_splits=10)\n",
    "    score2 = cross_val_score(model, X_train, y_train, scoring='accuracy', cv=SKF)\n",
    "    \n",
    "    RSKF= RepeatedStratifiedKFold(n_splits=5, n_repeats=10, random_state=None)\n",
    "    score3 = cross_val_score(model, X_train, y_train, scoring='accuracy', cv=RSKF)\n",
    "    \n",
    "    list_scores=[mean(score1),mean(score2),mean(score3)]\n",
    "    \n",
    "    return list_scores\n",
    "\n",
    "scores = evaluate_model(model)"
   ]
  },
  {
   "cell_type": "code",
   "execution_count": 36,
   "metadata": {
    "scrolled": true
   },
   "outputs": [
    {
     "name": "stdout",
     "output_type": "stream",
     "text": [
      "KFOLD CROSS VALIDATION SCORES\n",
      "------------------------------------\n",
      "KFold - 49.4 %\n",
      "Stratified KFold - 50.0 %\n",
      "Repeated Stratified KFold - 50.0 %\n"
     ]
    }
   ],
   "source": [
    "names=[\"KFold\",\"Stratified KFold\",\"Repeated Stratified KFold\"]\n",
    "print(\"KFOLD CROSS VALIDATION SCORES\")\n",
    "print(\"------------------------------------\")\n",
    "\n",
    "for (i,j) in zip(scores,names):\n",
    "    print(j,\"-\",round(i*100,2),'%')\n",
    "   \n",
    "    "
   ]
  },
  {
   "cell_type": "code",
   "execution_count": null,
   "metadata": {},
   "outputs": [],
   "source": []
  },
  {
   "cell_type": "markdown",
   "metadata": {},
   "source": [
    "## HYPER PARAMETRIC TUNING"
   ]
  },
  {
   "cell_type": "code",
   "execution_count": 67,
   "metadata": {},
   "outputs": [],
   "source": [
    "params={'n_estimators': [200,300],\n",
    "           'learning_rate': [0.01,0.015]}"
   ]
  },
  {
   "cell_type": "code",
   "execution_count": 68,
   "metadata": {},
   "outputs": [],
   "source": [
    "from sklearn.model_selection import GridSearchCV"
   ]
  },
  {
   "cell_type": "code",
   "execution_count": 69,
   "metadata": {},
   "outputs": [],
   "source": [
    "grid = GridSearchCV(AdaBoostClassifier(),params,refit=True,verbose=3)\n"
   ]
  },
  {
   "cell_type": "code",
   "execution_count": 70,
   "metadata": {},
   "outputs": [],
   "source": [
    "# X_train.iloc[np.random.randint(low=0, high=450000, size=int(0.15 * 450000))]\n",
    "# X_train1=X_train.sample(frac=0.35)\n",
    "# y_train1=y_train.sample(frac=0.35)"
   ]
  },
  {
   "cell_type": "code",
   "execution_count": 71,
   "metadata": {},
   "outputs": [
    {
     "data": {
      "text/plain": [
       "(45000,)"
      ]
     },
     "execution_count": 71,
     "metadata": {},
     "output_type": "execute_result"
    }
   ],
   "source": [
    "X_train.shape\n",
    "y_train.shape"
   ]
  },
  {
   "cell_type": "code",
   "execution_count": 72,
   "metadata": {},
   "outputs": [
    {
     "name": "stdout",
     "output_type": "stream",
     "text": [
      "Fitting 5 folds for each of 4 candidates, totalling 20 fits\n",
      "[CV] learning_rate=0.01, n_estimators=200 ............................\n"
     ]
    },
    {
     "name": "stderr",
     "output_type": "stream",
     "text": [
      "[Parallel(n_jobs=1)]: Using backend SequentialBackend with 1 concurrent workers.\n"
     ]
    },
    {
     "name": "stdout",
     "output_type": "stream",
     "text": [
      "[CV]  learning_rate=0.01, n_estimators=200, score=0.786, total=   6.0s\n",
      "[CV] learning_rate=0.01, n_estimators=200 ............................\n"
     ]
    },
    {
     "name": "stderr",
     "output_type": "stream",
     "text": [
      "[Parallel(n_jobs=1)]: Done   1 out of   1 | elapsed:    5.9s remaining:    0.0s\n"
     ]
    },
    {
     "name": "stdout",
     "output_type": "stream",
     "text": [
      "[CV]  learning_rate=0.01, n_estimators=200, score=0.751, total=   6.1s\n",
      "[CV] learning_rate=0.01, n_estimators=200 ............................\n"
     ]
    },
    {
     "name": "stderr",
     "output_type": "stream",
     "text": [
      "[Parallel(n_jobs=1)]: Done   2 out of   2 | elapsed:   11.9s remaining:    0.0s\n"
     ]
    },
    {
     "name": "stdout",
     "output_type": "stream",
     "text": [
      "[CV]  learning_rate=0.01, n_estimators=200, score=0.795, total=   5.9s\n",
      "[CV] learning_rate=0.01, n_estimators=200 ............................\n",
      "[CV]  learning_rate=0.01, n_estimators=200, score=0.753, total=   5.9s\n",
      "[CV] learning_rate=0.01, n_estimators=200 ............................\n",
      "[CV]  learning_rate=0.01, n_estimators=200, score=0.751, total=   5.9s\n",
      "[CV] learning_rate=0.01, n_estimators=300 ............................\n",
      "[CV]  learning_rate=0.01, n_estimators=300, score=0.763, total=   8.7s\n",
      "[CV] learning_rate=0.01, n_estimators=300 ............................\n",
      "[CV]  learning_rate=0.01, n_estimators=300, score=0.521, total=   8.9s\n",
      "[CV] learning_rate=0.01, n_estimators=300 ............................\n",
      "[CV]  learning_rate=0.01, n_estimators=300, score=0.663, total=   8.8s\n",
      "[CV] learning_rate=0.01, n_estimators=300 ............................\n",
      "[CV]  learning_rate=0.01, n_estimators=300, score=0.528, total=   8.9s\n",
      "[CV] learning_rate=0.01, n_estimators=300 ............................\n",
      "[CV]  learning_rate=0.01, n_estimators=300, score=0.529, total=   8.8s\n",
      "[CV] learning_rate=0.015, n_estimators=200 ...........................\n",
      "[CV]  learning_rate=0.015, n_estimators=200, score=0.655, total=   6.0s\n",
      "[CV] learning_rate=0.015, n_estimators=200 ...........................\n",
      "[CV]  learning_rate=0.015, n_estimators=200, score=0.521, total=   5.9s\n",
      "[CV] learning_rate=0.015, n_estimators=200 ...........................\n",
      "[CV]  learning_rate=0.015, n_estimators=200, score=0.663, total=   5.9s\n",
      "[CV] learning_rate=0.015, n_estimators=200 ...........................\n",
      "[CV]  learning_rate=0.015, n_estimators=200, score=0.658, total=   5.9s\n",
      "[CV] learning_rate=0.015, n_estimators=200 ...........................\n",
      "[CV]  learning_rate=0.015, n_estimators=200, score=0.658, total=   5.9s\n",
      "[CV] learning_rate=0.015, n_estimators=300 ...........................\n",
      "[CV]  learning_rate=0.015, n_estimators=300, score=0.515, total=   8.8s\n",
      "[CV] learning_rate=0.015, n_estimators=300 ...........................\n",
      "[CV]  learning_rate=0.015, n_estimators=300, score=0.481, total=   8.8s\n",
      "[CV] learning_rate=0.015, n_estimators=300 ...........................\n",
      "[CV]  learning_rate=0.015, n_estimators=300, score=0.530, total=   8.8s\n",
      "[CV] learning_rate=0.015, n_estimators=300 ...........................\n",
      "[CV]  learning_rate=0.015, n_estimators=300, score=0.532, total=   8.9s\n",
      "[CV] learning_rate=0.015, n_estimators=300 ...........................\n",
      "[CV]  learning_rate=0.015, n_estimators=300, score=0.495, total=   8.8s\n"
     ]
    },
    {
     "name": "stderr",
     "output_type": "stream",
     "text": [
      "[Parallel(n_jobs=1)]: Done  20 out of  20 | elapsed:  2.5min finished\n"
     ]
    },
    {
     "data": {
      "text/plain": [
       "GridSearchCV(estimator=AdaBoostClassifier(),\n",
       "             param_grid={'learning_rate': [0.01, 0.015],\n",
       "                         'n_estimators': [200, 300]},\n",
       "             verbose=3)"
      ]
     },
     "execution_count": 72,
     "metadata": {},
     "output_type": "execute_result"
    }
   ],
   "source": [
    "grid.fit(X_train,y_train)"
   ]
  },
  {
   "cell_type": "code",
   "execution_count": 73,
   "metadata": {},
   "outputs": [
    {
     "data": {
      "text/plain": [
       "{'learning_rate': 0.01, 'n_estimators': 200}"
      ]
     },
     "execution_count": 73,
     "metadata": {},
     "output_type": "execute_result"
    }
   ],
   "source": [
    "grid.best_params_"
   ]
  },
  {
   "cell_type": "code",
   "execution_count": 74,
   "metadata": {},
   "outputs": [
    {
     "data": {
      "text/plain": [
       "AdaBoostClassifier(learning_rate=0.01, n_estimators=200)"
      ]
     },
     "execution_count": 74,
     "metadata": {},
     "output_type": "execute_result"
    }
   ],
   "source": [
    "grid.best_estimator_"
   ]
  },
  {
   "cell_type": "code",
   "execution_count": 75,
   "metadata": {},
   "outputs": [],
   "source": [
    "grid_predictions = grid.predict(X_test)"
   ]
  },
  {
   "cell_type": "code",
   "execution_count": 76,
   "metadata": {},
   "outputs": [],
   "source": [
    "from sklearn.metrics import classification_report,confusion_matrix"
   ]
  },
  {
   "cell_type": "code",
   "execution_count": 77,
   "metadata": {},
   "outputs": [
    {
     "name": "stdout",
     "output_type": "stream",
     "text": [
      "[[1301 1131   68    0    0    0]\n",
      " [   8 2381  111    0    0    0]\n",
      " [   0 1730  770    0    0    0]\n",
      " [   0    0    0 2500    0    0]\n",
      " [   0    0    0    0 2500    0]\n",
      " [ 157    0    0    0    0 2343]]\n"
     ]
    }
   ],
   "source": [
    "print(confusion_matrix(y_test,grid_predictions))"
   ]
  },
  {
   "cell_type": "code",
   "execution_count": 78,
   "metadata": {},
   "outputs": [
    {
     "name": "stdout",
     "output_type": "stream",
     "text": [
      "              precision    recall  f1-score   support\n",
      "\n",
      "           0       0.89      0.52      0.66      2500\n",
      "           1       0.45      0.95      0.62      2500\n",
      "           2       0.81      0.31      0.45      2500\n",
      "           3       1.00      1.00      1.00      2500\n",
      "           4       1.00      1.00      1.00      2500\n",
      "           5       1.00      0.94      0.97      2500\n",
      "\n",
      "    accuracy                           0.79     15000\n",
      "   macro avg       0.86      0.79      0.78     15000\n",
      "weighted avg       0.86      0.79      0.78     15000\n",
      "\n"
     ]
    }
   ],
   "source": [
    "print(classification_report(y_test,grid_predictions))"
   ]
  },
  {
   "cell_type": "code",
   "execution_count": null,
   "metadata": {},
   "outputs": [],
   "source": []
  }
 ],
 "metadata": {
  "kernelspec": {
   "display_name": "Python 3",
   "language": "python",
   "name": "python3"
  },
  "language_info": {
   "codemirror_mode": {
    "name": "ipython",
    "version": 3
   },
   "file_extension": ".py",
   "mimetype": "text/x-python",
   "name": "python",
   "nbconvert_exporter": "python",
   "pygments_lexer": "ipython3",
   "version": "3.7.4"
  }
 },
 "nbformat": 4,
 "nbformat_minor": 2
}
